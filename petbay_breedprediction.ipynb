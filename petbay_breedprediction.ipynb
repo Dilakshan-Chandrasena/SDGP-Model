{
  "cells": [
    {
      "cell_type": "code",
      "source": [
        " !pip install opendatasets -q"
      ],
      "metadata": {
        "id": "se-YqSDCLklc"
      },
      "execution_count": null,
      "outputs": []
    },
    {
      "cell_type": "code",
      "source": [
        "import sys\n",
        "print(sys.version)"
      ],
      "metadata": {
        "colab": {
          "base_uri": "https://localhost:8080/"
        },
        "id": "57S-7z69IBdn",
        "outputId": "035661b5-b613-49f0-98d0-03b4f509ffd1"
      },
      "execution_count": null,
      "outputs": [
        {
          "output_type": "stream",
          "name": "stdout",
          "text": [
            "3.10.12 (main, Nov 20 2023, 15:14:05) [GCC 11.4.0]\n"
          ]
        }
      ]
    },
    {
      "cell_type": "markdown",
      "metadata": {
        "id": "Foh6bXdiR0e5"
      },
      "source": [
        "#Importing Packages\n",
        "\n",
        "Importing all the necessary packages for the mode"
      ]
    },
    {
      "cell_type": "code",
      "execution_count": null,
      "metadata": {
        "colab": {
          "base_uri": "https://localhost:8080/"
        },
        "id": "PT-clEePR56T",
        "outputId": "1874ec60-b3ca-4c34-c4d2-fa0ffd2a6adb"
      },
      "outputs": [
        {
          "output_type": "stream",
          "name": "stderr",
          "text": [
            "<ipython-input-2-14fdb2e12279>:13: TqdmExperimentalWarning: Using `tqdm.autonotebook.tqdm` in notebook mode. Use `tqdm.tqdm` instead to force console mode (e.g. in jupyter console)\n",
            "  from tqdm.autonotebook import tqdm\n"
          ]
        }
      ],
      "source": [
        "import numpy as np\n",
        "import tensorflow as tf\n",
        "import matplotlib.pyplot as plt\n",
        "import time\n",
        "import pandas as pd\n",
        "import seaborn as sns\n",
        "import opendatasets as od\n",
        "import os\n",
        "import gc\n",
        "\n",
        "from sklearn.model_selection import train_test_split\n",
        "\n",
        "from tqdm.autonotebook import tqdm\n",
        "\n",
        "from keras import Sequential\n",
        "from keras.callbacks import EarlyStopping\n",
        "\n",
        "from keras.optimizers import Adam, SGD\n",
        "from keras.callbacks import ReduceLROnPlateau\n",
        "from keras.layers import Flatten,Dense,BatchNormalization,Activation,Dropout\n",
        "from keras.layers import Lambda, Input, GlobalAveragePooling2D,BatchNormalization\n",
        "from keras.utils import to_categorical\n",
        "# from keras import regularizers\n",
        "from tensorflow.keras.models import Model\n",
        "from keras.preprocessing.image import load_img\n"
      ]
    },
    {
      "cell_type": "code",
      "source": [
        "import keras\n",
        "print(keras.__version__)\n",
        "print(tf.__version__)\n",
        "print(np.__version__)"
      ],
      "metadata": {
        "colab": {
          "base_uri": "https://localhost:8080/"
        },
        "id": "T25v00TRzXDA",
        "outputId": "c8c954c0-d6c7-4256-8270-2176f6df5754"
      },
      "execution_count": null,
      "outputs": [
        {
          "output_type": "stream",
          "name": "stdout",
          "text": [
            "2.15.0\n",
            "2.15.0\n",
            "1.25.2\n"
          ]
        }
      ]
    },
    {
      "cell_type": "markdown",
      "metadata": {
        "id": "1jIVZ8QgVizF"
      },
      "source": [
        "Check GPU Availability\n",
        "**bold text**\n",
        "\n"
      ]
    },
    {
      "cell_type": "code",
      "execution_count": null,
      "metadata": {
        "colab": {
          "base_uri": "https://localhost:8080/"
        },
        "id": "L5TgwRdWVhAU",
        "outputId": "22e466ca-85e6-4975-9cc5-a6c7404d1ba9"
      },
      "outputs": [
        {
          "output_type": "stream",
          "name": "stdout",
          "text": [
            "GPU is Available\n"
          ]
        }
      ],
      "source": [
        "if tf.config.list_physical_devices(\"GPU\"):\n",
        "  print(\"GPU is Available\");\n",
        "else:\n",
        "    print(\"GPU is not Available\");"
      ]
    },
    {
      "cell_type": "markdown",
      "metadata": {
        "id": "vPKMuBENSRaK"
      },
      "source": [
        "# Load Dataset\n",
        "\n",
        "Loading train and test dataset"
      ]
    },
    {
      "cell_type": "code",
      "source": [
        "#downloading the dataset using kaggle api keys\n",
        "od.download(\"https://www.kaggle.com/datasets/dilakshanchandrasena/dog-breed-classification\")"
      ],
      "metadata": {
        "colab": {
          "base_uri": "https://localhost:8080/"
        },
        "id": "RIZP704PMMtQ",
        "outputId": "0d22abef-ec99-43be-8496-a69a44729add"
      },
      "execution_count": null,
      "outputs": [
        {
          "output_type": "stream",
          "name": "stdout",
          "text": [
            "Please provide your Kaggle credentials to download this dataset. Learn more: http://bit.ly/kaggle-creds\n",
            "Your Kaggle username: dilakshanchandrasena\n",
            "Your Kaggle Key: ··········\n",
            "Downloading dog-breed-classification.zip to ./dog-breed-classification\n"
          ]
        },
        {
          "output_type": "stream",
          "name": "stderr",
          "text": [
            "100%|██████████| 689M/689M [00:23<00:00, 30.2MB/s]\n"
          ]
        },
        {
          "output_type": "stream",
          "name": "stdout",
          "text": [
            "\n"
          ]
        }
      ]
    },
    {
      "cell_type": "code",
      "execution_count": null,
      "metadata": {
        "colab": {
          "base_uri": "https://localhost:8080/",
          "height": 206
        },
        "id": "Ky51aqizWlns",
        "outputId": "3d5cbbe8-dc90-4793-8c47-929d580161cb"
      },
      "outputs": [
        {
          "output_type": "execute_result",
          "data": {
            "text/plain": [
              "                                 id             breed\n",
              "0  000bec180eb18c7604dcecc8fe0dba07       boston_bull\n",
              "1  001513dfcb2ffafc82cccf4d8bbaba97             dingo\n",
              "2  001cdf01b096e06d78e9e5112d419397          pekinese\n",
              "3  00214f311d5d2247d5dfe4fe24b2303d          bluetick\n",
              "4  0021f9ceb3235effd7fcde7f7538ed62  golden_retriever"
            ],
            "text/html": [
              "\n",
              "  <div id=\"df-5a43d293-c1fd-44c2-bf0c-63a1758cd224\" class=\"colab-df-container\">\n",
              "    <div>\n",
              "<style scoped>\n",
              "    .dataframe tbody tr th:only-of-type {\n",
              "        vertical-align: middle;\n",
              "    }\n",
              "\n",
              "    .dataframe tbody tr th {\n",
              "        vertical-align: top;\n",
              "    }\n",
              "\n",
              "    .dataframe thead th {\n",
              "        text-align: right;\n",
              "    }\n",
              "</style>\n",
              "<table border=\"1\" class=\"dataframe\">\n",
              "  <thead>\n",
              "    <tr style=\"text-align: right;\">\n",
              "      <th></th>\n",
              "      <th>id</th>\n",
              "      <th>breed</th>\n",
              "    </tr>\n",
              "  </thead>\n",
              "  <tbody>\n",
              "    <tr>\n",
              "      <th>0</th>\n",
              "      <td>000bec180eb18c7604dcecc8fe0dba07</td>\n",
              "      <td>boston_bull</td>\n",
              "    </tr>\n",
              "    <tr>\n",
              "      <th>1</th>\n",
              "      <td>001513dfcb2ffafc82cccf4d8bbaba97</td>\n",
              "      <td>dingo</td>\n",
              "    </tr>\n",
              "    <tr>\n",
              "      <th>2</th>\n",
              "      <td>001cdf01b096e06d78e9e5112d419397</td>\n",
              "      <td>pekinese</td>\n",
              "    </tr>\n",
              "    <tr>\n",
              "      <th>3</th>\n",
              "      <td>00214f311d5d2247d5dfe4fe24b2303d</td>\n",
              "      <td>bluetick</td>\n",
              "    </tr>\n",
              "    <tr>\n",
              "      <th>4</th>\n",
              "      <td>0021f9ceb3235effd7fcde7f7538ed62</td>\n",
              "      <td>golden_retriever</td>\n",
              "    </tr>\n",
              "  </tbody>\n",
              "</table>\n",
              "</div>\n",
              "    <div class=\"colab-df-buttons\">\n",
              "\n",
              "  <div class=\"colab-df-container\">\n",
              "    <button class=\"colab-df-convert\" onclick=\"convertToInteractive('df-5a43d293-c1fd-44c2-bf0c-63a1758cd224')\"\n",
              "            title=\"Convert this dataframe to an interactive table.\"\n",
              "            style=\"display:none;\">\n",
              "\n",
              "  <svg xmlns=\"http://www.w3.org/2000/svg\" height=\"24px\" viewBox=\"0 -960 960 960\">\n",
              "    <path d=\"M120-120v-720h720v720H120Zm60-500h600v-160H180v160Zm220 220h160v-160H400v160Zm0 220h160v-160H400v160ZM180-400h160v-160H180v160Zm440 0h160v-160H620v160ZM180-180h160v-160H180v160Zm440 0h160v-160H620v160Z\"/>\n",
              "  </svg>\n",
              "    </button>\n",
              "\n",
              "  <style>\n",
              "    .colab-df-container {\n",
              "      display:flex;\n",
              "      gap: 12px;\n",
              "    }\n",
              "\n",
              "    .colab-df-convert {\n",
              "      background-color: #E8F0FE;\n",
              "      border: none;\n",
              "      border-radius: 50%;\n",
              "      cursor: pointer;\n",
              "      display: none;\n",
              "      fill: #1967D2;\n",
              "      height: 32px;\n",
              "      padding: 0 0 0 0;\n",
              "      width: 32px;\n",
              "    }\n",
              "\n",
              "    .colab-df-convert:hover {\n",
              "      background-color: #E2EBFA;\n",
              "      box-shadow: 0px 1px 2px rgba(60, 64, 67, 0.3), 0px 1px 3px 1px rgba(60, 64, 67, 0.15);\n",
              "      fill: #174EA6;\n",
              "    }\n",
              "\n",
              "    .colab-df-buttons div {\n",
              "      margin-bottom: 4px;\n",
              "    }\n",
              "\n",
              "    [theme=dark] .colab-df-convert {\n",
              "      background-color: #3B4455;\n",
              "      fill: #D2E3FC;\n",
              "    }\n",
              "\n",
              "    [theme=dark] .colab-df-convert:hover {\n",
              "      background-color: #434B5C;\n",
              "      box-shadow: 0px 1px 3px 1px rgba(0, 0, 0, 0.15);\n",
              "      filter: drop-shadow(0px 1px 2px rgba(0, 0, 0, 0.3));\n",
              "      fill: #FFFFFF;\n",
              "    }\n",
              "  </style>\n",
              "\n",
              "    <script>\n",
              "      const buttonEl =\n",
              "        document.querySelector('#df-5a43d293-c1fd-44c2-bf0c-63a1758cd224 button.colab-df-convert');\n",
              "      buttonEl.style.display =\n",
              "        google.colab.kernel.accessAllowed ? 'block' : 'none';\n",
              "\n",
              "      async function convertToInteractive(key) {\n",
              "        const element = document.querySelector('#df-5a43d293-c1fd-44c2-bf0c-63a1758cd224');\n",
              "        const dataTable =\n",
              "          await google.colab.kernel.invokeFunction('convertToInteractive',\n",
              "                                                    [key], {});\n",
              "        if (!dataTable) return;\n",
              "\n",
              "        const docLinkHtml = 'Like what you see? Visit the ' +\n",
              "          '<a target=\"_blank\" href=https://colab.research.google.com/notebooks/data_table.ipynb>data table notebook</a>'\n",
              "          + ' to learn more about interactive tables.';\n",
              "        element.innerHTML = '';\n",
              "        dataTable['output_type'] = 'display_data';\n",
              "        await google.colab.output.renderOutput(dataTable, element);\n",
              "        const docLink = document.createElement('div');\n",
              "        docLink.innerHTML = docLinkHtml;\n",
              "        element.appendChild(docLink);\n",
              "      }\n",
              "    </script>\n",
              "  </div>\n",
              "\n",
              "\n",
              "<div id=\"df-b4fed1b6-8e73-456b-ad63-f2ed3db016ac\">\n",
              "  <button class=\"colab-df-quickchart\" onclick=\"quickchart('df-b4fed1b6-8e73-456b-ad63-f2ed3db016ac')\"\n",
              "            title=\"Suggest charts\"\n",
              "            style=\"display:none;\">\n",
              "\n",
              "<svg xmlns=\"http://www.w3.org/2000/svg\" height=\"24px\"viewBox=\"0 0 24 24\"\n",
              "     width=\"24px\">\n",
              "    <g>\n",
              "        <path d=\"M19 3H5c-1.1 0-2 .9-2 2v14c0 1.1.9 2 2 2h14c1.1 0 2-.9 2-2V5c0-1.1-.9-2-2-2zM9 17H7v-7h2v7zm4 0h-2V7h2v10zm4 0h-2v-4h2v4z\"/>\n",
              "    </g>\n",
              "</svg>\n",
              "  </button>\n",
              "\n",
              "<style>\n",
              "  .colab-df-quickchart {\n",
              "      --bg-color: #E8F0FE;\n",
              "      --fill-color: #1967D2;\n",
              "      --hover-bg-color: #E2EBFA;\n",
              "      --hover-fill-color: #174EA6;\n",
              "      --disabled-fill-color: #AAA;\n",
              "      --disabled-bg-color: #DDD;\n",
              "  }\n",
              "\n",
              "  [theme=dark] .colab-df-quickchart {\n",
              "      --bg-color: #3B4455;\n",
              "      --fill-color: #D2E3FC;\n",
              "      --hover-bg-color: #434B5C;\n",
              "      --hover-fill-color: #FFFFFF;\n",
              "      --disabled-bg-color: #3B4455;\n",
              "      --disabled-fill-color: #666;\n",
              "  }\n",
              "\n",
              "  .colab-df-quickchart {\n",
              "    background-color: var(--bg-color);\n",
              "    border: none;\n",
              "    border-radius: 50%;\n",
              "    cursor: pointer;\n",
              "    display: none;\n",
              "    fill: var(--fill-color);\n",
              "    height: 32px;\n",
              "    padding: 0;\n",
              "    width: 32px;\n",
              "  }\n",
              "\n",
              "  .colab-df-quickchart:hover {\n",
              "    background-color: var(--hover-bg-color);\n",
              "    box-shadow: 0 1px 2px rgba(60, 64, 67, 0.3), 0 1px 3px 1px rgba(60, 64, 67, 0.15);\n",
              "    fill: var(--button-hover-fill-color);\n",
              "  }\n",
              "\n",
              "  .colab-df-quickchart-complete:disabled,\n",
              "  .colab-df-quickchart-complete:disabled:hover {\n",
              "    background-color: var(--disabled-bg-color);\n",
              "    fill: var(--disabled-fill-color);\n",
              "    box-shadow: none;\n",
              "  }\n",
              "\n",
              "  .colab-df-spinner {\n",
              "    border: 2px solid var(--fill-color);\n",
              "    border-color: transparent;\n",
              "    border-bottom-color: var(--fill-color);\n",
              "    animation:\n",
              "      spin 1s steps(1) infinite;\n",
              "  }\n",
              "\n",
              "  @keyframes spin {\n",
              "    0% {\n",
              "      border-color: transparent;\n",
              "      border-bottom-color: var(--fill-color);\n",
              "      border-left-color: var(--fill-color);\n",
              "    }\n",
              "    20% {\n",
              "      border-color: transparent;\n",
              "      border-left-color: var(--fill-color);\n",
              "      border-top-color: var(--fill-color);\n",
              "    }\n",
              "    30% {\n",
              "      border-color: transparent;\n",
              "      border-left-color: var(--fill-color);\n",
              "      border-top-color: var(--fill-color);\n",
              "      border-right-color: var(--fill-color);\n",
              "    }\n",
              "    40% {\n",
              "      border-color: transparent;\n",
              "      border-right-color: var(--fill-color);\n",
              "      border-top-color: var(--fill-color);\n",
              "    }\n",
              "    60% {\n",
              "      border-color: transparent;\n",
              "      border-right-color: var(--fill-color);\n",
              "    }\n",
              "    80% {\n",
              "      border-color: transparent;\n",
              "      border-right-color: var(--fill-color);\n",
              "      border-bottom-color: var(--fill-color);\n",
              "    }\n",
              "    90% {\n",
              "      border-color: transparent;\n",
              "      border-bottom-color: var(--fill-color);\n",
              "    }\n",
              "  }\n",
              "</style>\n",
              "\n",
              "  <script>\n",
              "    async function quickchart(key) {\n",
              "      const quickchartButtonEl =\n",
              "        document.querySelector('#' + key + ' button');\n",
              "      quickchartButtonEl.disabled = true;  // To prevent multiple clicks.\n",
              "      quickchartButtonEl.classList.add('colab-df-spinner');\n",
              "      try {\n",
              "        const charts = await google.colab.kernel.invokeFunction(\n",
              "            'suggestCharts', [key], {});\n",
              "      } catch (error) {\n",
              "        console.error('Error during call to suggestCharts:', error);\n",
              "      }\n",
              "      quickchartButtonEl.classList.remove('colab-df-spinner');\n",
              "      quickchartButtonEl.classList.add('colab-df-quickchart-complete');\n",
              "    }\n",
              "    (() => {\n",
              "      let quickchartButtonEl =\n",
              "        document.querySelector('#df-b4fed1b6-8e73-456b-ad63-f2ed3db016ac button');\n",
              "      quickchartButtonEl.style.display =\n",
              "        google.colab.kernel.accessAllowed ? 'block' : 'none';\n",
              "    })();\n",
              "  </script>\n",
              "</div>\n",
              "    </div>\n",
              "  </div>\n"
            ],
            "application/vnd.google.colaboratory.intrinsic+json": {
              "type": "dataframe",
              "variable_name": "dogBreedTrainLabels",
              "summary": "{\n  \"name\": \"dogBreedTrainLabels\",\n  \"rows\": 10222,\n  \"fields\": [\n    {\n      \"column\": \"id\",\n      \"properties\": {\n        \"dtype\": \"string\",\n        \"num_unique_values\": 10222,\n        \"samples\": [\n          \"475171ec5847e4df41847e295b8cfca2\",\n          \"70c412a3ce894c617cbe707f24adbb82\",\n          \"c13427fc3db9194dac02b1721bd10fe4\"\n        ],\n        \"semantic_type\": \"\",\n        \"description\": \"\"\n      }\n    },\n    {\n      \"column\": \"breed\",\n      \"properties\": {\n        \"dtype\": \"category\",\n        \"num_unique_values\": 120,\n        \"samples\": [\n          \"rhodesian_ridgeback\",\n          \"bloodhound\",\n          \"golden_retriever\"\n        ],\n        \"semantic_type\": \"\",\n        \"description\": \"\"\n      }\n    }\n  ]\n}"
            }
          },
          "metadata": {},
          "execution_count": 5
        }
      ],
      "source": [
        "#reading labels in train data\n",
        "dogBreedTrainLabels = pd.read_csv('/content/dog-breed-classification/DATASET/train_data.csv')\n",
        "dogBreedTrainLabels.head()"
      ]
    },
    {
      "cell_type": "code",
      "source": [
        "#reading labels in test data\n",
        "dogBreedTestLabels = pd.read_csv('/content/dog-breed-classification/DATASET/test_data.csv')\n",
        "dogBreedTestLabels.head()"
      ],
      "metadata": {
        "colab": {
          "base_uri": "https://localhost:8080/",
          "height": 206
        },
        "id": "llvcQT1_7UbZ",
        "outputId": "a9df10b6-b9a5-4363-d092-16f2bd9877cd"
      },
      "execution_count": null,
      "outputs": [
        {
          "output_type": "execute_result",
          "data": {
            "text/plain": [
              "                id      breed\n",
              "0  n02085620_10074  chihuahua\n",
              "1  n02085620_10131  chihuahua\n",
              "2  n02085620_10621  chihuahua\n",
              "3   n02085620_1073  chihuahua\n",
              "4  n02085620_10976  chihuahua"
            ],
            "text/html": [
              "\n",
              "  <div id=\"df-7a650a49-5f16-452c-8a13-3412c6ffacdf\" class=\"colab-df-container\">\n",
              "    <div>\n",
              "<style scoped>\n",
              "    .dataframe tbody tr th:only-of-type {\n",
              "        vertical-align: middle;\n",
              "    }\n",
              "\n",
              "    .dataframe tbody tr th {\n",
              "        vertical-align: top;\n",
              "    }\n",
              "\n",
              "    .dataframe thead th {\n",
              "        text-align: right;\n",
              "    }\n",
              "</style>\n",
              "<table border=\"1\" class=\"dataframe\">\n",
              "  <thead>\n",
              "    <tr style=\"text-align: right;\">\n",
              "      <th></th>\n",
              "      <th>id</th>\n",
              "      <th>breed</th>\n",
              "    </tr>\n",
              "  </thead>\n",
              "  <tbody>\n",
              "    <tr>\n",
              "      <th>0</th>\n",
              "      <td>n02085620_10074</td>\n",
              "      <td>chihuahua</td>\n",
              "    </tr>\n",
              "    <tr>\n",
              "      <th>1</th>\n",
              "      <td>n02085620_10131</td>\n",
              "      <td>chihuahua</td>\n",
              "    </tr>\n",
              "    <tr>\n",
              "      <th>2</th>\n",
              "      <td>n02085620_10621</td>\n",
              "      <td>chihuahua</td>\n",
              "    </tr>\n",
              "    <tr>\n",
              "      <th>3</th>\n",
              "      <td>n02085620_1073</td>\n",
              "      <td>chihuahua</td>\n",
              "    </tr>\n",
              "    <tr>\n",
              "      <th>4</th>\n",
              "      <td>n02085620_10976</td>\n",
              "      <td>chihuahua</td>\n",
              "    </tr>\n",
              "  </tbody>\n",
              "</table>\n",
              "</div>\n",
              "    <div class=\"colab-df-buttons\">\n",
              "\n",
              "  <div class=\"colab-df-container\">\n",
              "    <button class=\"colab-df-convert\" onclick=\"convertToInteractive('df-7a650a49-5f16-452c-8a13-3412c6ffacdf')\"\n",
              "            title=\"Convert this dataframe to an interactive table.\"\n",
              "            style=\"display:none;\">\n",
              "\n",
              "  <svg xmlns=\"http://www.w3.org/2000/svg\" height=\"24px\" viewBox=\"0 -960 960 960\">\n",
              "    <path d=\"M120-120v-720h720v720H120Zm60-500h600v-160H180v160Zm220 220h160v-160H400v160Zm0 220h160v-160H400v160ZM180-400h160v-160H180v160Zm440 0h160v-160H620v160ZM180-180h160v-160H180v160Zm440 0h160v-160H620v160Z\"/>\n",
              "  </svg>\n",
              "    </button>\n",
              "\n",
              "  <style>\n",
              "    .colab-df-container {\n",
              "      display:flex;\n",
              "      gap: 12px;\n",
              "    }\n",
              "\n",
              "    .colab-df-convert {\n",
              "      background-color: #E8F0FE;\n",
              "      border: none;\n",
              "      border-radius: 50%;\n",
              "      cursor: pointer;\n",
              "      display: none;\n",
              "      fill: #1967D2;\n",
              "      height: 32px;\n",
              "      padding: 0 0 0 0;\n",
              "      width: 32px;\n",
              "    }\n",
              "\n",
              "    .colab-df-convert:hover {\n",
              "      background-color: #E2EBFA;\n",
              "      box-shadow: 0px 1px 2px rgba(60, 64, 67, 0.3), 0px 1px 3px 1px rgba(60, 64, 67, 0.15);\n",
              "      fill: #174EA6;\n",
              "    }\n",
              "\n",
              "    .colab-df-buttons div {\n",
              "      margin-bottom: 4px;\n",
              "    }\n",
              "\n",
              "    [theme=dark] .colab-df-convert {\n",
              "      background-color: #3B4455;\n",
              "      fill: #D2E3FC;\n",
              "    }\n",
              "\n",
              "    [theme=dark] .colab-df-convert:hover {\n",
              "      background-color: #434B5C;\n",
              "      box-shadow: 0px 1px 3px 1px rgba(0, 0, 0, 0.15);\n",
              "      filter: drop-shadow(0px 1px 2px rgba(0, 0, 0, 0.3));\n",
              "      fill: #FFFFFF;\n",
              "    }\n",
              "  </style>\n",
              "\n",
              "    <script>\n",
              "      const buttonEl =\n",
              "        document.querySelector('#df-7a650a49-5f16-452c-8a13-3412c6ffacdf button.colab-df-convert');\n",
              "      buttonEl.style.display =\n",
              "        google.colab.kernel.accessAllowed ? 'block' : 'none';\n",
              "\n",
              "      async function convertToInteractive(key) {\n",
              "        const element = document.querySelector('#df-7a650a49-5f16-452c-8a13-3412c6ffacdf');\n",
              "        const dataTable =\n",
              "          await google.colab.kernel.invokeFunction('convertToInteractive',\n",
              "                                                    [key], {});\n",
              "        if (!dataTable) return;\n",
              "\n",
              "        const docLinkHtml = 'Like what you see? Visit the ' +\n",
              "          '<a target=\"_blank\" href=https://colab.research.google.com/notebooks/data_table.ipynb>data table notebook</a>'\n",
              "          + ' to learn more about interactive tables.';\n",
              "        element.innerHTML = '';\n",
              "        dataTable['output_type'] = 'display_data';\n",
              "        await google.colab.output.renderOutput(dataTable, element);\n",
              "        const docLink = document.createElement('div');\n",
              "        docLink.innerHTML = docLinkHtml;\n",
              "        element.appendChild(docLink);\n",
              "      }\n",
              "    </script>\n",
              "  </div>\n",
              "\n",
              "\n",
              "<div id=\"df-9b3d32e0-8b3c-4f3f-8979-4db16858fa9f\">\n",
              "  <button class=\"colab-df-quickchart\" onclick=\"quickchart('df-9b3d32e0-8b3c-4f3f-8979-4db16858fa9f')\"\n",
              "            title=\"Suggest charts\"\n",
              "            style=\"display:none;\">\n",
              "\n",
              "<svg xmlns=\"http://www.w3.org/2000/svg\" height=\"24px\"viewBox=\"0 0 24 24\"\n",
              "     width=\"24px\">\n",
              "    <g>\n",
              "        <path d=\"M19 3H5c-1.1 0-2 .9-2 2v14c0 1.1.9 2 2 2h14c1.1 0 2-.9 2-2V5c0-1.1-.9-2-2-2zM9 17H7v-7h2v7zm4 0h-2V7h2v10zm4 0h-2v-4h2v4z\"/>\n",
              "    </g>\n",
              "</svg>\n",
              "  </button>\n",
              "\n",
              "<style>\n",
              "  .colab-df-quickchart {\n",
              "      --bg-color: #E8F0FE;\n",
              "      --fill-color: #1967D2;\n",
              "      --hover-bg-color: #E2EBFA;\n",
              "      --hover-fill-color: #174EA6;\n",
              "      --disabled-fill-color: #AAA;\n",
              "      --disabled-bg-color: #DDD;\n",
              "  }\n",
              "\n",
              "  [theme=dark] .colab-df-quickchart {\n",
              "      --bg-color: #3B4455;\n",
              "      --fill-color: #D2E3FC;\n",
              "      --hover-bg-color: #434B5C;\n",
              "      --hover-fill-color: #FFFFFF;\n",
              "      --disabled-bg-color: #3B4455;\n",
              "      --disabled-fill-color: #666;\n",
              "  }\n",
              "\n",
              "  .colab-df-quickchart {\n",
              "    background-color: var(--bg-color);\n",
              "    border: none;\n",
              "    border-radius: 50%;\n",
              "    cursor: pointer;\n",
              "    display: none;\n",
              "    fill: var(--fill-color);\n",
              "    height: 32px;\n",
              "    padding: 0;\n",
              "    width: 32px;\n",
              "  }\n",
              "\n",
              "  .colab-df-quickchart:hover {\n",
              "    background-color: var(--hover-bg-color);\n",
              "    box-shadow: 0 1px 2px rgba(60, 64, 67, 0.3), 0 1px 3px 1px rgba(60, 64, 67, 0.15);\n",
              "    fill: var(--button-hover-fill-color);\n",
              "  }\n",
              "\n",
              "  .colab-df-quickchart-complete:disabled,\n",
              "  .colab-df-quickchart-complete:disabled:hover {\n",
              "    background-color: var(--disabled-bg-color);\n",
              "    fill: var(--disabled-fill-color);\n",
              "    box-shadow: none;\n",
              "  }\n",
              "\n",
              "  .colab-df-spinner {\n",
              "    border: 2px solid var(--fill-color);\n",
              "    border-color: transparent;\n",
              "    border-bottom-color: var(--fill-color);\n",
              "    animation:\n",
              "      spin 1s steps(1) infinite;\n",
              "  }\n",
              "\n",
              "  @keyframes spin {\n",
              "    0% {\n",
              "      border-color: transparent;\n",
              "      border-bottom-color: var(--fill-color);\n",
              "      border-left-color: var(--fill-color);\n",
              "    }\n",
              "    20% {\n",
              "      border-color: transparent;\n",
              "      border-left-color: var(--fill-color);\n",
              "      border-top-color: var(--fill-color);\n",
              "    }\n",
              "    30% {\n",
              "      border-color: transparent;\n",
              "      border-left-color: var(--fill-color);\n",
              "      border-top-color: var(--fill-color);\n",
              "      border-right-color: var(--fill-color);\n",
              "    }\n",
              "    40% {\n",
              "      border-color: transparent;\n",
              "      border-right-color: var(--fill-color);\n",
              "      border-top-color: var(--fill-color);\n",
              "    }\n",
              "    60% {\n",
              "      border-color: transparent;\n",
              "      border-right-color: var(--fill-color);\n",
              "    }\n",
              "    80% {\n",
              "      border-color: transparent;\n",
              "      border-right-color: var(--fill-color);\n",
              "      border-bottom-color: var(--fill-color);\n",
              "    }\n",
              "    90% {\n",
              "      border-color: transparent;\n",
              "      border-bottom-color: var(--fill-color);\n",
              "    }\n",
              "  }\n",
              "</style>\n",
              "\n",
              "  <script>\n",
              "    async function quickchart(key) {\n",
              "      const quickchartButtonEl =\n",
              "        document.querySelector('#' + key + ' button');\n",
              "      quickchartButtonEl.disabled = true;  // To prevent multiple clicks.\n",
              "      quickchartButtonEl.classList.add('colab-df-spinner');\n",
              "      try {\n",
              "        const charts = await google.colab.kernel.invokeFunction(\n",
              "            'suggestCharts', [key], {});\n",
              "      } catch (error) {\n",
              "        console.error('Error during call to suggestCharts:', error);\n",
              "      }\n",
              "      quickchartButtonEl.classList.remove('colab-df-spinner');\n",
              "      quickchartButtonEl.classList.add('colab-df-quickchart-complete');\n",
              "    }\n",
              "    (() => {\n",
              "      let quickchartButtonEl =\n",
              "        document.querySelector('#df-9b3d32e0-8b3c-4f3f-8979-4db16858fa9f button');\n",
              "      quickchartButtonEl.style.display =\n",
              "        google.colab.kernel.accessAllowed ? 'block' : 'none';\n",
              "    })();\n",
              "  </script>\n",
              "</div>\n",
              "    </div>\n",
              "  </div>\n"
            ],
            "application/vnd.google.colaboratory.intrinsic+json": {
              "type": "dataframe",
              "variable_name": "dogBreedTestLabels",
              "summary": "{\n  \"name\": \"dogBreedTestLabels\",\n  \"rows\": 9600,\n  \"fields\": [\n    {\n      \"column\": \"id\",\n      \"properties\": {\n        \"dtype\": \"string\",\n        \"num_unique_values\": 9600,\n        \"samples\": [\n          \"n02089973_186\",\n          \"n02115913_2895\",\n          \"n02108000_1302\"\n        ],\n        \"semantic_type\": \"\",\n        \"description\": \"\"\n      }\n    },\n    {\n      \"column\": \"breed\",\n      \"properties\": {\n        \"dtype\": \"category\",\n        \"num_unique_values\": 120,\n        \"samples\": [\n          \"boston_bull\",\n          \"standard_schnauzer\",\n          \"shih-tzu\"\n        ],\n        \"semantic_type\": \"\",\n        \"description\": \"\"\n      }\n    }\n  ]\n}"
            }
          },
          "metadata": {},
          "execution_count": 6
        }
      ]
    },
    {
      "cell_type": "code",
      "execution_count": null,
      "metadata": {
        "colab": {
          "base_uri": "https://localhost:8080/"
        },
        "id": "kYUIcNxqXfQe",
        "outputId": "bd994af6-c6da-4a6e-efcf-1185bcd8e1d3"
      },
      "outputs": [
        {
          "output_type": "stream",
          "name": "stdout",
          "text": [
            "                                      id               breed\n",
            "count                              10222               10222\n",
            "unique                             10222                 120\n",
            "top     fff43b07992508bc822f33d8ffd902ae  scottish_deerhound\n",
            "freq                                   1                 126\n"
          ]
        }
      ],
      "source": [
        "#summary of train data\n",
        "print(dogBreedTrainLabels.describe());"
      ]
    },
    {
      "cell_type": "code",
      "source": [
        "#summary of test data\n",
        "print(\"Summary of Test Dataset\")\n",
        "print(dogBreedTestLabels.describe());"
      ],
      "metadata": {
        "colab": {
          "base_uri": "https://localhost:8080/"
        },
        "id": "Abm3R8K97a-q",
        "outputId": "8025c7ae-9064-41bb-b28e-a683dc9570f8"
      },
      "execution_count": null,
      "outputs": [
        {
          "output_type": "stream",
          "name": "stdout",
          "text": [
            "Summary of Test Dataset\n",
            "                    id         breed\n",
            "count             9600          9600\n",
            "unique            9600           120\n",
            "top     n02116738_2514  newfoundland\n",
            "freq                 1            80\n"
          ]
        }
      ]
    },
    {
      "cell_type": "code",
      "execution_count": null,
      "metadata": {
        "colab": {
          "base_uri": "https://localhost:8080/",
          "height": 386
        },
        "id": "Cex_W1d21hg8",
        "outputId": "2a5397a6-6fc3-430a-b924-bc515eb7a8fc"
      },
      "outputs": [
        {
          "output_type": "display_data",
          "data": {
            "text/plain": [
              "<Figure size 2500x600 with 1 Axes>"
            ],
            "image/png": "[encoded data removed]"
          },
          "metadata": {}
        }
      ],
      "source": [
        "#finding number images for each dog breed class\n",
        "\n",
        "plt.figure(figsize = (25,6))\n",
        "count =sns.countplot(x=dogBreedTrainLabels['breed'],order=dogBreedTrainLabels['breed'].value_counts().index)\n",
        "plt.title(\"Number of Images for Each Breed\")\n",
        "plt.ylabel(\"Image Count\")\n",
        "plt.xlabel(\"Breed\")\n",
        "plt.xticks(rotation=90)\n",
        "plt.show()"
      ]
    },
    {
      "cell_type": "code",
      "source": [
        "#finding number test images for each dog breed class\n",
        "\n",
        "plt.figure(figsize = (25,6))\n",
        "count =sns.countplot(x=dogBreedTestLabels['breed'],order=dogBreedTestLabels['breed'].value_counts().index)\n",
        "plt.title(\"Number of Images for Each Breed\")\n",
        "plt.ylabel(\"Image Count\")\n",
        "plt.xlabel(\"Breed\")\n",
        "plt.xticks(rotation=90)\n",
        "plt.show()"
      ],
      "metadata": {
        "colab": {
          "base_uri": "https://localhost:8080/",
          "height": 388
        },
        "id": "KR5Y5Bg67jR1",
        "outputId": "47baecf9-1567-43e4-99c9-af7094e331c4"
      },
      "execution_count": null,
      "outputs": [
        {
          "output_type": "display_data",
          "data": {
            "text/plain": [
              "<Figure size 2500x600 with 1 Axes>"
            ],
            "image/png": "[encoded data removed]"
          },
          "metadata": {}
        }
      ]
    },
    {
      "cell_type": "markdown",
      "source": [
        "# Data Preprocessing\n",
        "\n",
        "\n",
        "1.   Labels preprocessing\n",
        "2.   Image Preprocessing\n",
        "\n"
      ],
      "metadata": {
        "id": "3wpWhrBI65fR"
      }
    },
    {
      "cell_type": "code",
      "execution_count": null,
      "metadata": {
        "colab": {
          "base_uri": "https://localhost:8080/"
        },
        "id": "6nGQJfD-5UEr",
        "outputId": "cc904bd7-b539-4d7f-eace-8161b689bb66"
      },
      "outputs": [
        {
          "output_type": "stream",
          "name": "stdout",
          "text": [
            "Total number of breeds: 120\n"
          ]
        },
        {
          "output_type": "execute_result",
          "data": {
            "text/plain": [
              "{'affenpinscher': 0,\n",
              " 'afghan_hound': 1,\n",
              " 'african_hunting_dog': 2,\n",
              " 'airedale': 3,\n",
              " 'american_staffordshire_terrier': 4,\n",
              " 'appenzeller': 5,\n",
              " 'australian_terrier': 6,\n",
              " 'basenji': 7,\n",
              " 'basset': 8,\n",
              " 'beagle': 9,\n",
              " 'bedlington_terrier': 10,\n",
              " 'bernese_mountain_dog': 11,\n",
              " 'black-and-tan_coonhound': 12,\n",
              " 'blenheim_spaniel': 13,\n",
              " 'bloodhound': 14,\n",
              " 'bluetick': 15,\n",
              " 'border_collie': 16,\n",
              " 'border_terrier': 17,\n",
              " 'borzoi': 18,\n",
              " 'boston_bull': 19,\n",
              " 'bouvier_des_flandres': 20,\n",
              " 'boxer': 21,\n",
              " 'brabancon_griffon': 22,\n",
              " 'briard': 23,\n",
              " 'brittany_spaniel': 24,\n",
              " 'bull_mastiff': 25,\n",
              " 'cairn': 26,\n",
              " 'cardigan': 27,\n",
              " 'chesapeake_bay_retriever': 28,\n",
              " 'chihuahua': 29,\n",
              " 'chow': 30,\n",
              " 'clumber': 31,\n",
              " 'cocker_spaniel': 32,\n",
              " 'collie': 33,\n",
              " 'curly-coated_retriever': 34,\n",
              " 'dandie_dinmont': 35,\n",
              " 'dhole': 36,\n",
              " 'dingo': 37,\n",
              " 'doberman': 38,\n",
              " 'english_foxhound': 39,\n",
              " 'english_setter': 40,\n",
              " 'english_springer': 41,\n",
              " 'entlebucher': 42,\n",
              " 'eskimo_dog': 43,\n",
              " 'flat-coated_retriever': 44,\n",
              " 'french_bulldog': 45,\n",
              " 'german_shepherd': 46,\n",
              " 'german_short-haired_pointer': 47,\n",
              " 'giant_schnauzer': 48,\n",
              " 'golden_retriever': 49,\n",
              " 'gordon_setter': 50,\n",
              " 'great_dane': 51,\n",
              " 'great_pyrenees': 52,\n",
              " 'greater_swiss_mountain_dog': 53,\n",
              " 'groenendael': 54,\n",
              " 'ibizan_hound': 55,\n",
              " 'irish_setter': 56,\n",
              " 'irish_terrier': 57,\n",
              " 'irish_water_spaniel': 58,\n",
              " 'irish_wolfhound': 59,\n",
              " 'italian_greyhound': 60,\n",
              " 'japanese_spaniel': 61,\n",
              " 'keeshond': 62,\n",
              " 'kelpie': 63,\n",
              " 'kerry_blue_terrier': 64,\n",
              " 'komondor': 65,\n",
              " 'kuvasz': 66,\n",
              " 'labrador_retriever': 67,\n",
              " 'lakeland_terrier': 68,\n",
              " 'leonberg': 69,\n",
              " 'lhasa': 70,\n",
              " 'malamute': 71,\n",
              " 'malinois': 72,\n",
              " 'maltese_dog': 73,\n",
              " 'mexican_hairless': 74,\n",
              " 'miniature_pinscher': 75,\n",
              " 'miniature_poodle': 76,\n",
              " 'miniature_schnauzer': 77,\n",
              " 'newfoundland': 78,\n",
              " 'norfolk_terrier': 79,\n",
              " 'norwegian_elkhound': 80,\n",
              " 'norwich_terrier': 81,\n",
              " 'old_english_sheepdog': 82,\n",
              " 'otterhound': 83,\n",
              " 'papillon': 84,\n",
              " 'pekinese': 85,\n",
              " 'pembroke': 86,\n",
              " 'pomeranian': 87,\n",
              " 'pug': 88,\n",
              " 'redbone': 89,\n",
              " 'rhodesian_ridgeback': 90,\n",
              " 'rottweiler': 91,\n",
              " 'saint_bernard': 92,\n",
              " 'saluki': 93,\n",
              " 'samoyed': 94,\n",
              " 'schipperke': 95,\n",
              " 'scotch_terrier': 96,\n",
              " 'scottish_deerhound': 97,\n",
              " 'sealyham_terrier': 98,\n",
              " 'shetland_sheepdog': 99,\n",
              " 'shih-tzu': 100,\n",
              " 'siberian_husky': 101,\n",
              " 'silky_terrier': 102,\n",
              " 'soft-coated_wheaten_terrier': 103,\n",
              " 'staffordshire_bullterrier': 104,\n",
              " 'standard_poodle': 105,\n",
              " 'standard_schnauzer': 106,\n",
              " 'sussex_spaniel': 107,\n",
              " 'tibetan_mastiff': 108,\n",
              " 'tibetan_terrier': 109,\n",
              " 'toy_poodle': 110,\n",
              " 'toy_terrier': 111,\n",
              " 'vizsla': 112,\n",
              " 'walker_hound': 113,\n",
              " 'weimaraner': 114,\n",
              " 'welsh_springer_spaniel': 115,\n",
              " 'west_highland_white_terrier': 116,\n",
              " 'whippet': 117,\n",
              " 'wire-haired_fox_terrier': 118,\n",
              " 'yorkshire_terrier': 119}"
            ]
          },
          "metadata": {},
          "execution_count": 11
        }
      ],
      "source": [
        "#Create list of alphabetically sorted labels.\n",
        "classes = sorted(list(set(dogBreedTrainLabels['breed'])))\n",
        "# n_classes = len(classes)\n",
        "print('Total number of breeds:' , len(classes))\n",
        "\n",
        "\n",
        "# Encoding train classes with a number\n",
        "encodedTrainClasses = dict(zip(classes, range(len(classes))))\n",
        "encodedTrainClasses"
      ]
    },
    {
      "cell_type": "code",
      "source": [
        "#Create list of alphabetically sorted labels.\n",
        "classesTest = sorted(list(set(dogBreedTestLabels['breed'])))\n",
        "# n_classes = len(classes)\n",
        "print('Total number of breeds:' , len(classesTest))\n",
        "\n",
        "\n",
        "# Encoding test classes with a number\n",
        "encodedTestClasses = dict(zip(classesTest, range(len(classesTest))))\n",
        "encodedTestClasses"
      ],
      "metadata": {
        "colab": {
          "base_uri": "https://localhost:8080/"
        },
        "id": "lbwpX3Y87r8O",
        "outputId": "26367a7c-d062-496a-f03e-4411af25dd0a"
      },
      "execution_count": null,
      "outputs": [
        {
          "output_type": "stream",
          "name": "stdout",
          "text": [
            "Total number of breeds: 120\n"
          ]
        },
        {
          "output_type": "execute_result",
          "data": {
            "text/plain": [
              "{'affenpinscher': 0,\n",
              " 'afghan_hound': 1,\n",
              " 'african_hunting_dog': 2,\n",
              " 'airedale': 3,\n",
              " 'american_staffordshire_terrier': 4,\n",
              " 'appenzeller': 5,\n",
              " 'australian_terrier': 6,\n",
              " 'basenji': 7,\n",
              " 'basset': 8,\n",
              " 'beagle': 9,\n",
              " 'bedlington_terrier': 10,\n",
              " 'bernese_mountain_dog': 11,\n",
              " 'black-and-tan_coonhound': 12,\n",
              " 'blenheim_spaniel': 13,\n",
              " 'bloodhound': 14,\n",
              " 'bluetick': 15,\n",
              " 'border_collie': 16,\n",
              " 'border_terrier': 17,\n",
              " 'borzoi': 18,\n",
              " 'boston_bull': 19,\n",
              " 'bouvier_des_flandres': 20,\n",
              " 'boxer': 21,\n",
              " 'brabancon_griffon': 22,\n",
              " 'briard': 23,\n",
              " 'brittany_spaniel': 24,\n",
              " 'bull_mastiff': 25,\n",
              " 'cairn': 26,\n",
              " 'cardigan': 27,\n",
              " 'chesapeake_bay_retriever': 28,\n",
              " 'chihuahua': 29,\n",
              " 'chow': 30,\n",
              " 'clumber': 31,\n",
              " 'cocker_spaniel': 32,\n",
              " 'collie': 33,\n",
              " 'curly-coated_retriever': 34,\n",
              " 'dandie_dinmont': 35,\n",
              " 'dhole': 36,\n",
              " 'dingo': 37,\n",
              " 'doberman': 38,\n",
              " 'english_foxhound': 39,\n",
              " 'english_setter': 40,\n",
              " 'english_springer': 41,\n",
              " 'entlebucher': 42,\n",
              " 'eskimo_dog': 43,\n",
              " 'flat-coated_retriever': 44,\n",
              " 'french_bulldog': 45,\n",
              " 'german_shepherd': 46,\n",
              " 'german_short-haired_pointer': 47,\n",
              " 'giant_schnauzer': 48,\n",
              " 'golden_retriever': 49,\n",
              " 'gordon_setter': 50,\n",
              " 'great_dane': 51,\n",
              " 'great_pyrenees': 52,\n",
              " 'greater_swiss_mountain_dog': 53,\n",
              " 'groenendael': 54,\n",
              " 'ibizan_hound': 55,\n",
              " 'irish_setter': 56,\n",
              " 'irish_terrier': 57,\n",
              " 'irish_water_spaniel': 58,\n",
              " 'irish_wolfhound': 59,\n",
              " 'italian_greyhound': 60,\n",
              " 'japanese_spaniel': 61,\n",
              " 'keeshond': 62,\n",
              " 'kelpie': 63,\n",
              " 'kerry_blue_terrier': 64,\n",
              " 'komondor': 65,\n",
              " 'kuvasz': 66,\n",
              " 'labrador_retriever': 67,\n",
              " 'lakeland_terrier': 68,\n",
              " 'leonberg': 69,\n",
              " 'lhasa': 70,\n",
              " 'malamute': 71,\n",
              " 'malinois': 72,\n",
              " 'maltese_dog': 73,\n",
              " 'mexican_hairless': 74,\n",
              " 'miniature_pinscher': 75,\n",
              " 'miniature_poodle': 76,\n",
              " 'miniature_schnauzer': 77,\n",
              " 'newfoundland': 78,\n",
              " 'norfolk_terrier': 79,\n",
              " 'norwegian_elkhound': 80,\n",
              " 'norwich_terrier': 81,\n",
              " 'old_english_sheepdog': 82,\n",
              " 'otterhound': 83,\n",
              " 'papillon': 84,\n",
              " 'pekinese': 85,\n",
              " 'pembroke': 86,\n",
              " 'pomeranian': 87,\n",
              " 'pug': 88,\n",
              " 'redbone': 89,\n",
              " 'rhodesian_ridgeback': 90,\n",
              " 'rottweiler': 91,\n",
              " 'saint_bernard': 92,\n",
              " 'saluki': 93,\n",
              " 'samoyed': 94,\n",
              " 'schipperke': 95,\n",
              " 'scotch_terrier': 96,\n",
              " 'scottish_deerhound': 97,\n",
              " 'sealyham_terrier': 98,\n",
              " 'shetland_sheepdog': 99,\n",
              " 'shih-tzu': 100,\n",
              " 'siberian_husky': 101,\n",
              " 'silky_terrier': 102,\n",
              " 'soft-coated_wheaten_terrier': 103,\n",
              " 'staffordshire_bullterrier': 104,\n",
              " 'standard_poodle': 105,\n",
              " 'standard_schnauzer': 106,\n",
              " 'sussex_spaniel': 107,\n",
              " 'tibetan_mastiff': 108,\n",
              " 'tibetan_terrier': 109,\n",
              " 'toy_poodle': 110,\n",
              " 'toy_terrier': 111,\n",
              " 'vizsla': 112,\n",
              " 'walker_hound': 113,\n",
              " 'weimaraner': 114,\n",
              " 'welsh_springer_spaniel': 115,\n",
              " 'west_highland_white_terrier': 116,\n",
              " 'whippet': 117,\n",
              " 'wire-haired_fox_terrier': 118,\n",
              " 'yorkshire_terrier': 119}"
            ]
          },
          "metadata": {},
          "execution_count": 12
        }
      ]
    },
    {
      "cell_type": "markdown",
      "source": [
        "## Creating Train Data\n",
        "\n",
        "*   train_X : Conatains images to train the model\n",
        "*   train_Y : Contains breed labels for each image in the train_X. Will feed in model taining\n",
        "\n",
        "\n"
      ],
      "metadata": {
        "id": "NTLgTZhv77qD"
      }
    },
    {
      "cell_type": "code",
      "execution_count": null,
      "metadata": {
        "id": "4SrJmb0RFnKP",
        "colab": {
          "base_uri": "https://localhost:8080/",
          "height": 67,
          "referenced_widgets": [
            "e817b58c1f5f4be6891f9261c7998761",
            "766a7034b17b4dd8a4e146391f546be2",
            "df8c6630d58e4c27a55671e84fbda8fd",
            "327ff5857509487cbe7b1b91a2d768ca",
            "e31cd3ac52f74765867fff24c99bf60f",
            "4f0b2a17dd2d4e7caad59087b1e79722",
            "d877e643306a4cfb8edd5be134c39c58",
            "e7f0b9d5b10049f3aef1e5d45718d8c1",
            "362a6ae968a74fddb7e1a54f4ed58779",
            "958839d22ba540a696450bdf73025bb2",
            "5353649b2c4847b988bcb006e2453bb6"
          ]
        },
        "outputId": "f54d8dad-0eb8-4b03-ad2e-681b36a91359"
      },
      "outputs": [
        {
          "output_type": "display_data",
          "data": {
            "text/plain": [
              "  0%|          | 0/10222 [00:00<?, ?it/s]"
            ],
            "application/vnd.jupyter.widget-view+json": {
              "version_major": 2,
              "version_minor": 0,
              "model_id": "e817b58c1f5f4be6891f9261c7998761"
            }
          },
          "metadata": {}
        },
        {
          "output_type": "stream",
          "name": "stdout",
          "text": [
            "runtime in seconds: 20.7393639087677\n"
          ]
        }
      ],
      "source": [
        "import time\n",
        "t = time.time()\n",
        "\n",
        "inputShape = (331,331,3)\n",
        "trainDir = '/content/dog-breed-classification/DATASET/train_images';\n",
        "labels = dogBreedTrainLabels[:]\n",
        "\n",
        "imageLabels = labels['breed']\n",
        "train_X = np.zeros([len(labels), inputShape[0], inputShape[1], inputShape[2]],dtype=np.uint8)\n",
        "train_Y = np.zeros([len(labels),1],dtype = np.uint8)\n",
        "\n",
        "for ix, image_name in enumerate(tqdm(labels['id'].values)):\n",
        "  imageDir = os.path.join(trainDir, image_name + '.jpg')\n",
        "  breedImage = load_img(imageDir, target_size = inputShape)\n",
        "  train_X[ix]= breedImage\n",
        "  del breedImage\n",
        "\n",
        "  dogBreed = imageLabels[ix]\n",
        "  train_Y[ix] = encodedTrainClasses[dogBreed]\n",
        "\n",
        "train_Y = to_categorical(train_Y)\n",
        "\n",
        "print('runtime in seconds: {}'.format(time.time() - t))"
      ]
    },
    {
      "cell_type": "markdown",
      "source": [
        "Plotting sample images of Train Data"
      ],
      "metadata": {
        "id": "J5YoMnIr8oTJ"
      }
    },
    {
      "cell_type": "code",
      "execution_count": null,
      "metadata": {
        "colab": {
          "base_uri": "https://localhost:8080/",
          "height": 998
        },
        "id": "mlY0v-ABr2bC",
        "outputId": "206c1a37-5bfe-46c3-8cae-ff7734838ad9"
      },
      "outputs": [],
      "source": [
        "plt.figure(figsize=(20,20))\n",
        "\n",
        "for i in range(25):\n",
        "  ax = plt.subplot(5,5, i+1)\n",
        "  plt.title(classes[np.where(train_Y[i] ==1)[0][0]])\n",
        "  plt.imshow(train_X[i].astype('int32'))"
      ]
    },
    {
      "cell_type": "markdown",
      "source": [
        "#Model Building"
      ],
      "metadata": {
        "id": "NgO34mYb9tCE"
      }
    },
    {
      "cell_type": "code",
      "source": [
        "from keras.applications.inception_v3 import InceptionV3, preprocess_input\n",
        "baseModel = InceptionV3(weights='imagenet', include_top=False, input_shape=inputShape)\n",
        "\n",
        "# Freeze the weights of the InceptionV3 base model\n",
        "for layer in baseModel.layers:\n",
        "    layer.trainable = False\n"
      ],
      "metadata": {
        "colab": {
          "base_uri": "https://localhost:8080/"
        },
        "id": "c5TA3RrIL0ec",
        "outputId": "b564b96f-1a79-496e-dff0-c49ebcd4bdfe"
      },
      "execution_count": null,
      "outputs": [
        {
          "output_type": "stream",
          "name": "stdout",
          "text": [
            "Downloading data from https://storage.googleapis.com/tensorflow/keras-applications/inception_v3/inception_v3_weights_tf_dim_ordering_tf_kernels_notop.h5\n",
            "87910968/87910968 [==============================] - 3s 0us/step\n"
          ]
        }
      ]
    },
    {
      "cell_type": "code",
      "source": [
        "baseModel.layers"
      ],
      "metadata": {
        "colab": {
          "base_uri": "https://localhost:8080/"
        },
        "id": "Lfl_iOzMo_HS",
        "outputId": "0f90b603-b985-4b00-b5ca-fa7338f6dc37"
      },
      "execution_count": null,
      "outputs": [
        {
          "output_type": "execute_result",
          "data": {
            "text/plain": [
              "[<keras.src.engine.input_layer.InputLayer at 0x7b09b31cefb0>,\n",
              " <keras.src.layers.convolutional.conv2d.Conv2D at 0x7b08e6351ab0>,\n",
              " <keras.src.layers.normalization.batch_normalization.BatchNormalization at 0x7b08e6373a90>,\n",
              " <keras.src.layers.core.activation.Activation at 0x7b08e6373b80>,\n",
              " <keras.src.layers.convolutional.conv2d.Conv2D at 0x7b08e5a78c40>,\n",
              " <keras.src.layers.normalization.batch_normalization.BatchNormalization at 0x7b08e5a7a260>,\n",
              " <keras.src.layers.core.activation.Activation at 0x7b08e5a7ae30>,\n",
              " <keras.src.layers.convolutional.conv2d.Conv2D at 0x7b08e6373fa0>,\n",
              " <keras.src.layers.normalization.batch_normalization.BatchNormalization at 0x7b08e5a790f0>,\n",
              " <keras.src.layers.core.activation.Activation at 0x7b08e5a7bc10>,\n",
              " <keras.src.layers.pooling.max_pooling2d.MaxPooling2D at 0x7b08e5a7b0a0>,\n",
              " <keras.src.layers.convolutional.conv2d.Conv2D at 0x7b0a2d2cfca0>,\n",
              " <keras.src.layers.normalization.batch_normalization.BatchNormalization at 0x7b08e5a7a890>,\n",
              " <keras.src.layers.core.activation.Activation at 0x7b08e5a7a5c0>,\n",
              " <keras.src.layers.convolutional.conv2d.Conv2D at 0x7b08e5a7a4d0>,\n",
              " <keras.src.layers.normalization.batch_normalization.BatchNormalization at 0x7b08e5aeece0>,\n",
              " <keras.src.layers.core.activation.Activation at 0x7b08e5aef790>,\n",
              " <keras.src.layers.pooling.max_pooling2d.MaxPooling2D at 0x7b08e5aefe80>,\n",
              " <keras.src.layers.convolutional.conv2d.Conv2D at 0x7b08e5aff1f0>,\n",
              " <keras.src.layers.normalization.batch_normalization.BatchNormalization at 0x7b08e5afec20>,\n",
              " <keras.src.layers.core.activation.Activation at 0x7b08e5aff2e0>,\n",
              " <keras.src.layers.convolutional.conv2d.Conv2D at 0x7b08e5aefa90>,\n",
              " <keras.src.layers.convolutional.conv2d.Conv2D at 0x7b08e5aff160>,\n",
              " <keras.src.layers.normalization.batch_normalization.BatchNormalization at 0x7b08e5aed060>,\n",
              " <keras.src.layers.normalization.batch_normalization.BatchNormalization at 0x7b08e248eb30>,\n",
              " <keras.src.layers.core.activation.Activation at 0x7b08e5aecbe0>,\n",
              " <keras.src.layers.core.activation.Activation at 0x7b08e248e140>,\n",
              " <keras.src.layers.pooling.average_pooling2d.AveragePooling2D at 0x7b08e248c580>,\n",
              " <keras.src.layers.convolutional.conv2d.Conv2D at 0x7b08e5aefcd0>,\n",
              " <keras.src.layers.convolutional.conv2d.Conv2D at 0x7b08e5aef910>,\n",
              " <keras.src.layers.convolutional.conv2d.Conv2D at 0x7b08e248ef50>,\n",
              " <keras.src.layers.convolutional.conv2d.Conv2D at 0x7b08e248f850>,\n",
              " <keras.src.layers.normalization.batch_normalization.BatchNormalization at 0x7b08e5aeca30>,\n",
              " <keras.src.layers.normalization.batch_normalization.BatchNormalization at 0x7b08e5affb20>,\n",
              " <keras.src.layers.normalization.batch_normalization.BatchNormalization at 0x7b08e248fe80>,\n",
              " <keras.src.layers.normalization.batch_normalization.BatchNormalization at 0x7b08e248f0a0>,\n",
              " <keras.src.layers.core.activation.Activation at 0x7b08e5aefeb0>,\n",
              " <keras.src.layers.core.activation.Activation at 0x7b08e5aff6d0>,\n",
              " <keras.src.layers.core.activation.Activation at 0x7b08e248dfc0>,\n",
              " <keras.src.layers.core.activation.Activation at 0x7b08e248ef20>,\n",
              " <keras.src.layers.merging.concatenate.Concatenate at 0x7b08e248ee90>,\n",
              " <keras.src.layers.convolutional.conv2d.Conv2D at 0x7b08e24a5c00>,\n",
              " <keras.src.layers.normalization.batch_normalization.BatchNormalization at 0x7b08e5aee9e0>,\n",
              " <keras.src.layers.core.activation.Activation at 0x7b08e5aed960>,\n",
              " <keras.src.layers.convolutional.conv2d.Conv2D at 0x7b08e24a6c20>,\n",
              " <keras.src.layers.convolutional.conv2d.Conv2D at 0x7b08e5aeda20>,\n",
              " <keras.src.layers.normalization.batch_normalization.BatchNormalization at 0x7b08e24a7940>,\n",
              " <keras.src.layers.normalization.batch_normalization.BatchNormalization at 0x7b08e24ca200>,\n",
              " <keras.src.layers.core.activation.Activation at 0x7b08e24a7ac0>,\n",
              " <keras.src.layers.core.activation.Activation at 0x7b08e5afebf0>,\n",
              " <keras.src.layers.pooling.average_pooling2d.AveragePooling2D at 0x7b08e24c8ac0>,\n",
              " <keras.src.layers.convolutional.conv2d.Conv2D at 0x7b08e24a62f0>,\n",
              " <keras.src.layers.convolutional.conv2d.Conv2D at 0x7b08e24a6500>,\n",
              " <keras.src.layers.convolutional.conv2d.Conv2D at 0x7b08e24c9ab0>,\n",
              " <keras.src.layers.convolutional.conv2d.Conv2D at 0x7b08e24c86a0>,\n",
              " <keras.src.layers.normalization.batch_normalization.BatchNormalization at 0x7b08e24a7100>,\n",
              " <keras.src.layers.normalization.batch_normalization.BatchNormalization at 0x7b08e5afec50>,\n",
              " <keras.src.layers.normalization.batch_normalization.BatchNormalization at 0x7b08e24cb160>,\n",
              " <keras.src.layers.normalization.batch_normalization.BatchNormalization at 0x7b08e24cab30>,\n",
              " <keras.src.layers.core.activation.Activation at 0x7b08e24a4430>,\n",
              " <keras.src.layers.core.activation.Activation at 0x7b08e5afcc40>,\n",
              " <keras.src.layers.core.activation.Activation at 0x7b08e24c9a20>,\n",
              " <keras.src.layers.core.activation.Activation at 0x7b08e24cb0a0>,\n",
              " <keras.src.layers.merging.concatenate.Concatenate at 0x7b08e24dcb80>,\n",
              " <keras.src.layers.convolutional.conv2d.Conv2D at 0x7b08e24ed9f0>,\n",
              " <keras.src.layers.normalization.batch_normalization.BatchNormalization at 0x7b08e24edff0>,\n",
              " <keras.src.layers.core.activation.Activation at 0x7b08e24eed10>,\n",
              " <keras.src.layers.convolutional.conv2d.Conv2D at 0x7b08e24defb0>,\n",
              " <keras.src.layers.convolutional.conv2d.Conv2D at 0x7b08e24ef4f0>,\n",
              " <keras.src.layers.normalization.batch_normalization.BatchNormalization at 0x7b08e24dfe80>,\n",
              " <keras.src.layers.normalization.batch_normalization.BatchNormalization at 0x7b08e24eebf0>,\n",
              " <keras.src.layers.core.activation.Activation at 0x7b08e24dfc10>,\n",
              " <keras.src.layers.core.activation.Activation at 0x7b08e24ed750>,\n",
              " <keras.src.layers.pooling.average_pooling2d.AveragePooling2D at 0x7b08e250e9b0>,\n",
              " <keras.src.layers.convolutional.conv2d.Conv2D at 0x7b08e24cac80>,\n",
              " <keras.src.layers.convolutional.conv2d.Conv2D at 0x7b08e24de8f0>,\n",
              " <keras.src.layers.convolutional.conv2d.Conv2D at 0x7b08e24ec610>,\n",
              " <keras.src.layers.convolutional.conv2d.Conv2D at 0x7b08e250da80>,\n",
              " <keras.src.layers.normalization.batch_normalization.BatchNormalization at 0x7b08e24deb30>,\n",
              " <keras.src.layers.normalization.batch_normalization.BatchNormalization at 0x7b08e24df670>,\n",
              " <keras.src.layers.normalization.batch_normalization.BatchNormalization at 0x7b08e250e3b0>,\n",
              " <keras.src.layers.normalization.batch_normalization.BatchNormalization at 0x7b08e250fc10>,\n",
              " <keras.src.layers.core.activation.Activation at 0x7b08e24a71c0>,\n",
              " <keras.src.layers.core.activation.Activation at 0x7b08e24dfa30>,\n",
              " <keras.src.layers.core.activation.Activation at 0x7b08e24ee9b0>,\n",
              " <keras.src.layers.core.activation.Activation at 0x7b08e250da50>,\n",
              " <keras.src.layers.merging.concatenate.Concatenate at 0x7b08e250fca0>,\n",
              " <keras.src.layers.convolutional.conv2d.Conv2D at 0x7b08e250fd90>,\n",
              " <keras.src.layers.normalization.batch_normalization.BatchNormalization at 0x7b08e24dc460>,\n",
              " <keras.src.layers.core.activation.Activation at 0x7b08e24ed4b0>,\n",
              " <keras.src.layers.convolutional.conv2d.Conv2D at 0x7b08e24edb10>,\n",
              " <keras.src.layers.normalization.batch_normalization.BatchNormalization at 0x7b08e5afdba0>,\n",
              " <keras.src.layers.core.activation.Activation at 0x7b08e5aef3a0>,\n",
              " <keras.src.layers.convolutional.conv2d.Conv2D at 0x7b08e250f640>,\n",
              " <keras.src.layers.convolutional.conv2d.Conv2D at 0x7b08e5afd720>,\n",
              " <keras.src.layers.normalization.batch_normalization.BatchNormalization at 0x7b08e250f1f0>,\n",
              " <keras.src.layers.normalization.batch_normalization.BatchNormalization at 0x7b08e2530cd0>,\n",
              " <keras.src.layers.core.activation.Activation at 0x7b08e24ef700>,\n",
              " <keras.src.layers.core.activation.Activation at 0x7b08e250e200>,\n",
              " <keras.src.layers.pooling.max_pooling2d.MaxPooling2D at 0x7b08e25314e0>,\n",
              " <keras.src.layers.merging.concatenate.Concatenate at 0x7b08e2532380>,\n",
              " <keras.src.layers.convolutional.conv2d.Conv2D at 0x7b08e2546800>,\n",
              " <keras.src.layers.normalization.batch_normalization.BatchNormalization at 0x7b08e2562530>,\n",
              " <keras.src.layers.core.activation.Activation at 0x7b08e2561b40>,\n",
              " <keras.src.layers.convolutional.conv2d.Conv2D at 0x7b08e2562950>,\n",
              " <keras.src.layers.normalization.batch_normalization.BatchNormalization at 0x7b08e2563850>,\n",
              " <keras.src.layers.core.activation.Activation at 0x7b08e2563400>,\n",
              " <keras.src.layers.convolutional.conv2d.Conv2D at 0x7b08e25334c0>,\n",
              " <keras.src.layers.convolutional.conv2d.Conv2D at 0x7b08e2563f70>,\n",
              " <keras.src.layers.normalization.batch_normalization.BatchNormalization at 0x7b08e2533430>,\n",
              " <keras.src.layers.normalization.batch_normalization.BatchNormalization at 0x7b08e2562b00>,\n",
              " <keras.src.layers.core.activation.Activation at 0x7b08e25457b0>,\n",
              " <keras.src.layers.core.activation.Activation at 0x7b08e2560130>,\n",
              " <keras.src.layers.convolutional.conv2d.Conv2D at 0x7b08e2546320>,\n",
              " <keras.src.layers.convolutional.conv2d.Conv2D at 0x7b08e2563640>,\n",
              " <keras.src.layers.normalization.batch_normalization.BatchNormalization at 0x7b08e2547520>,\n",
              " <keras.src.layers.normalization.batch_normalization.BatchNormalization at 0x7b08e2562fb0>,\n",
              " <keras.src.layers.core.activation.Activation at 0x7b08e25470d0>,\n",
              " <keras.src.layers.core.activation.Activation at 0x7b08e2563f40>,\n",
              " <keras.src.layers.pooling.average_pooling2d.AveragePooling2D at 0x7b08e24ca5f0>,\n",
              " <keras.src.layers.convolutional.conv2d.Conv2D at 0x7b08e2533a00>,\n",
              " <keras.src.layers.convolutional.conv2d.Conv2D at 0x7b08e2547c70>,\n",
              " <keras.src.layers.convolutional.conv2d.Conv2D at 0x7b08e2562080>,\n",
              " <keras.src.layers.convolutional.conv2d.Conv2D at 0x7b08e2547400>,\n",
              " <keras.src.layers.normalization.batch_normalization.BatchNormalization at 0x7b08e2531d50>,\n",
              " <keras.src.layers.normalization.batch_normalization.BatchNormalization at 0x7b08e2546080>,\n",
              " <keras.src.layers.normalization.batch_normalization.BatchNormalization at 0x7b08e24ca560>,\n",
              " <keras.src.layers.normalization.batch_normalization.BatchNormalization at 0x7b08e25472e0>,\n",
              " <keras.src.layers.core.activation.Activation at 0x7b08e2532200>,\n",
              " <keras.src.layers.core.activation.Activation at 0x7b08e2547e80>,\n",
              " <keras.src.layers.core.activation.Activation at 0x7b08e24dd8a0>,\n",
              " <keras.src.layers.core.activation.Activation at 0x7b08e25471c0>,\n",
              " <keras.src.layers.merging.concatenate.Concatenate at 0x7b08e2530d60>,\n",
              " <keras.src.layers.convolutional.conv2d.Conv2D at 0x7b08e2397760>,\n",
              " <keras.src.layers.normalization.batch_normalization.BatchNormalization at 0x7b08e2397700>,\n",
              " <keras.src.layers.core.activation.Activation at 0x7b08e2397d00>,\n",
              " <keras.src.layers.convolutional.conv2d.Conv2D at 0x7b08e23a9f60>,\n",
              " <keras.src.layers.normalization.batch_normalization.BatchNormalization at 0x7b08e23ab160>,\n",
              " <keras.src.layers.core.activation.Activation at 0x7b08e23aad10>,\n",
              " <keras.src.layers.convolutional.conv2d.Conv2D at 0x7b08e25448e0>,\n",
              " <keras.src.layers.convolutional.conv2d.Conv2D at 0x7b08e23ab8b0>,\n",
              " <keras.src.layers.normalization.batch_normalization.BatchNormalization at 0x7b08e2380ee0>,\n",
              " <keras.src.layers.normalization.batch_normalization.BatchNormalization at 0x7b08e23abeb0>,\n",
              " <keras.src.layers.core.activation.Activation at 0x7b08e2383df0>,\n",
              " <keras.src.layers.core.activation.Activation at 0x7b08e24c9420>,\n",
              " <keras.src.layers.convolutional.conv2d.Conv2D at 0x7b08e2395ba0>,\n",
              " <keras.src.layers.convolutional.conv2d.Conv2D at 0x7b08e23ab550>,\n",
              " <keras.src.layers.normalization.batch_normalization.BatchNormalization at 0x7b08e2396e00>,\n",
              " <keras.src.layers.normalization.batch_normalization.BatchNormalization at 0x7b08e23cd690>,\n",
              " <keras.src.layers.core.activation.Activation at 0x7b08e23969b0>,\n",
              " <keras.src.layers.core.activation.Activation at 0x7b08e5a7aaa0>,\n",
              " <keras.src.layers.pooling.average_pooling2d.AveragePooling2D at 0x7b08e23cdf00>,\n",
              " <keras.src.layers.convolutional.conv2d.Conv2D at 0x7b08e2383cd0>,\n",
              " <keras.src.layers.convolutional.conv2d.Conv2D at 0x7b08e2397550>,\n",
              " <keras.src.layers.convolutional.conv2d.Conv2D at 0x7b08e23cc820>,\n",
              " <keras.src.layers.convolutional.conv2d.Conv2D at 0x7b08e23ced40>,\n",
              " <keras.src.layers.normalization.batch_normalization.BatchNormalization at 0x7b08e2383910>,\n",
              " <keras.src.layers.normalization.batch_normalization.BatchNormalization at 0x7b08e2397b50>,\n",
              " <keras.src.layers.normalization.batch_normalization.BatchNormalization at 0x7b08e23cf4c0>,\n",
              " <keras.src.layers.normalization.batch_normalization.BatchNormalization at 0x7b08e23cf040>,\n",
              " <keras.src.layers.core.activation.Activation at 0x7b08e24ef580>,\n",
              " <keras.src.layers.core.activation.Activation at 0x7b08e2397eb0>,\n",
              " <keras.src.layers.core.activation.Activation at 0x7b08e23cee60>,\n",
              " <keras.src.layers.core.activation.Activation at 0x7b08e23cd420>,\n",
              " <keras.src.layers.merging.concatenate.Concatenate at 0x7b08e23cde10>,\n",
              " <keras.src.layers.convolutional.conv2d.Conv2D at 0x7b08e23f32e0>,\n",
              " <keras.src.layers.normalization.batch_normalization.BatchNormalization at 0x7b08e23f3910>,\n",
              " <keras.src.layers.core.activation.Activation at 0x7b08e23f3310>,\n",
              " <keras.src.layers.convolutional.conv2d.Conv2D at 0x7b08e23f3340>,\n",
              " <keras.src.layers.normalization.batch_normalization.BatchNormalization at 0x7b08e2402e90>,\n",
              " <keras.src.layers.core.activation.Activation at 0x7b08e2402830>,\n",
              " <keras.src.layers.convolutional.conv2d.Conv2D at 0x7b08e23cd030>,\n",
              " <keras.src.layers.convolutional.conv2d.Conv2D at 0x7b08e2403580>,\n",
              " <keras.src.layers.normalization.batch_normalization.BatchNormalization at 0x7b08e2382320>,\n",
              " <keras.src.layers.normalization.batch_normalization.BatchNormalization at 0x7b08e2403b80>,\n",
              " <keras.src.layers.core.activation.Activation at 0x7b08e2395810>,\n",
              " <keras.src.layers.core.activation.Activation at 0x7b08e2403f10>,\n",
              " <keras.src.layers.convolutional.conv2d.Conv2D at 0x7b08e25326e0>,\n",
              " <keras.src.layers.convolutional.conv2d.Conv2D at 0x7b08e2403610>,\n",
              " <keras.src.layers.normalization.batch_normalization.BatchNormalization at 0x7b08e23f2e30>,\n",
              " <keras.src.layers.normalization.batch_normalization.BatchNormalization at 0x7b08e2403550>,\n",
              " <keras.src.layers.core.activation.Activation at 0x7b08e23f23e0>,\n",
              " <keras.src.layers.core.activation.Activation at 0x7b08e2403d30>,\n",
              " <keras.src.layers.pooling.average_pooling2d.AveragePooling2D at 0x7b08e2423e50>,\n",
              " <keras.src.layers.convolutional.conv2d.Conv2D at 0x7b08e23a9960>,\n",
              " <keras.src.layers.convolutional.conv2d.Conv2D at 0x7b08e23f3250>,\n",
              " <keras.src.layers.convolutional.conv2d.Conv2D at 0x7b08e2421f90>,\n",
              " <keras.src.layers.convolutional.conv2d.Conv2D at 0x7b08e2422b60>,\n",
              " <keras.src.layers.normalization.batch_normalization.BatchNormalization at 0x7b08e2394430>,\n",
              " <keras.src.layers.normalization.batch_normalization.BatchNormalization at 0x7b08e23f3850>,\n",
              " <keras.src.layers.normalization.batch_normalization.BatchNormalization at 0x7b08e2423160>,\n",
              " <keras.src.layers.normalization.batch_normalization.BatchNormalization at 0x7b08e2423eb0>,\n",
              " <keras.src.layers.core.activation.Activation at 0x7b08e23a8130>,\n",
              " <keras.src.layers.core.activation.Activation at 0x7b08e23f3d00>,\n",
              " <keras.src.layers.core.activation.Activation at 0x7b08e2422d10>,\n",
              " <keras.src.layers.core.activation.Activation at 0x7b08e24223e0>,\n",
              " <keras.src.layers.merging.concatenate.Concatenate at 0x7b08e2423f70>,\n",
              " <keras.src.layers.convolutional.conv2d.Conv2D at 0x7b09c06568c0>,\n",
              " <keras.src.layers.normalization.batch_normalization.BatchNormalization at 0x7b09c0656a40>,\n",
              " <keras.src.layers.core.activation.Activation at 0x7b09c0656fe0>,\n",
              " <keras.src.layers.convolutional.conv2d.Conv2D at 0x7b09c063b3d0>,\n",
              " <keras.src.layers.normalization.batch_normalization.BatchNormalization at 0x7b09c066e7a0>,\n",
              " <keras.src.layers.core.activation.Activation at 0x7b09c066c2e0>,\n",
              " <keras.src.layers.convolutional.conv2d.Conv2D at 0x7b08e24450c0>,\n",
              " <keras.src.layers.convolutional.conv2d.Conv2D at 0x7b09c068c1f0>,\n",
              " <keras.src.layers.normalization.batch_normalization.BatchNormalization at 0x7b08e2423b20>,\n",
              " <keras.src.layers.normalization.batch_normalization.BatchNormalization at 0x7b09c068de70>,\n",
              " <keras.src.layers.core.activation.Activation at 0x7b08e24205e0>,\n",
              " <keras.src.layers.core.activation.Activation at 0x7b09c068e6e0>,\n",
              " <keras.src.layers.convolutional.conv2d.Conv2D at 0x7b08e2402bf0>,\n",
              " <keras.src.layers.convolutional.conv2d.Conv2D at 0x7b09c0625f90>,\n",
              " <keras.src.layers.normalization.batch_normalization.BatchNormalization at 0x7b09c01a2920>,\n",
              " <keras.src.layers.normalization.batch_normalization.BatchNormalization at 0x7b09c07e5720>,\n",
              " <keras.src.layers.core.activation.Activation at 0x7b09c01a24a0>,\n",
              " <keras.src.layers.core.activation.Activation at 0x7b09c07e7b20>,\n",
              " <keras.src.layers.pooling.average_pooling2d.AveragePooling2D at 0x7b09c06d8130>,\n",
              " <keras.src.layers.convolutional.conv2d.Conv2D at 0x7b08e2382c20>,\n",
              " <keras.src.layers.convolutional.conv2d.Conv2D at 0x7b09c0608d60>,\n",
              " <keras.src.layers.convolutional.conv2d.Conv2D at 0x7b09c07e6020>,\n",
              " <keras.src.layers.convolutional.conv2d.Conv2D at 0x7b09c07e4970>,\n",
              " <keras.src.layers.normalization.batch_normalization.BatchNormalization at 0x7b08e2445d50>,\n",
              " <keras.src.layers.normalization.batch_normalization.BatchNormalization at 0x7b09c060afb0>,\n",
              " <keras.src.layers.normalization.batch_normalization.BatchNormalization at 0x7b09c06bd6f0>,\n",
              " <keras.src.layers.normalization.batch_normalization.BatchNormalization at 0x7b09c06da560>,\n",
              " <keras.src.layers.core.activation.Activation at 0x7b08e23cd930>,\n",
              " <keras.src.layers.core.activation.Activation at 0x7b09c060a230>,\n",
              " <keras.src.layers.core.activation.Activation at 0x7b09c06bd5d0>,\n",
              " <keras.src.layers.core.activation.Activation at 0x7b09c06da8c0>,\n",
              " <keras.src.layers.merging.concatenate.Concatenate at 0x7b09c057d780>,\n",
              " <keras.src.layers.convolutional.conv2d.Conv2D at 0x7b08e2382650>,\n",
              " <keras.src.layers.normalization.batch_normalization.BatchNormalization at 0x7b08e644cd30>,\n",
              " <keras.src.layers.core.activation.Activation at 0x7b08e250cd00>,\n",
              " <keras.src.layers.convolutional.conv2d.Conv2D at 0x7b08e23f04f0>,\n",
              " <keras.src.layers.normalization.batch_normalization.BatchNormalization at 0x7b09c054bbe0>,\n",
              " <keras.src.layers.core.activation.Activation at 0x7b09c05676d0>,\n",
              " <keras.src.layers.convolutional.conv2d.Conv2D at 0x7b09c05ddc90>,\n",
              " <keras.src.layers.convolutional.conv2d.Conv2D at 0x7b08e2530490>,\n",
              " <keras.src.layers.normalization.batch_normalization.BatchNormalization at 0x7b09c057c2b0>,\n",
              " <keras.src.layers.normalization.batch_normalization.BatchNormalization at 0x7b09c06a5e40>,\n",
              " <keras.src.layers.core.activation.Activation at 0x7b09c05df340>,\n",
              " <keras.src.layers.core.activation.Activation at 0x7b09c0567160>,\n",
              " <keras.src.layers.convolutional.conv2d.Conv2D at 0x7b09b314e110>,\n",
              " <keras.src.layers.convolutional.conv2d.Conv2D at 0x7b09c06a6a10>,\n",
              " <keras.src.layers.normalization.batch_normalization.BatchNormalization at 0x7b09c0400550>,\n",
              " <keras.src.layers.normalization.batch_normalization.BatchNormalization at 0x7b09c0624be0>,\n",
              " <keras.src.layers.core.activation.Activation at 0x7b09c06f9ba0>,\n",
              " <keras.src.layers.core.activation.Activation at 0x7b09c066d300>,\n",
              " <keras.src.layers.pooling.max_pooling2d.MaxPooling2D at 0x7b09c06bfa00>,\n",
              " <keras.src.layers.merging.concatenate.Concatenate at 0x7b08e5aecee0>,\n",
              " <keras.src.layers.convolutional.conv2d.Conv2D at 0x7b0a213d59c0>,\n",
              " <keras.src.layers.normalization.batch_normalization.BatchNormalization at 0x7b0a20158400>,\n",
              " <keras.src.layers.core.activation.Activation at 0x7b0a2015a230>,\n",
              " <keras.src.layers.convolutional.conv2d.Conv2D at 0x7b0a201800a0>,\n",
              " <keras.src.layers.convolutional.conv2d.Conv2D at 0x7b09b3668af0>,\n",
              " <keras.src.layers.normalization.batch_normalization.BatchNormalization at 0x7b0a20180dc0>,\n",
              " <keras.src.layers.normalization.batch_normalization.BatchNormalization at 0x7b09b366b5b0>,\n",
              " <keras.src.layers.core.activation.Activation at 0x7b0a20182950>,\n",
              " <keras.src.layers.core.activation.Activation at 0x7b09b3669a80>,\n",
              " <keras.src.layers.convolutional.conv2d.Conv2D at 0x7b0a20182c20>,\n",
              " <keras.src.layers.convolutional.conv2d.Conv2D at 0x7b0a20158c40>,\n",
              " <keras.src.layers.convolutional.conv2d.Conv2D at 0x7b09b366bc70>,\n",
              " <keras.src.layers.convolutional.conv2d.Conv2D at 0x7b09b3687040>,\n",
              " <keras.src.layers.pooling.average_pooling2d.AveragePooling2D at 0x7b09b36a1630>,\n",
              " <keras.src.layers.convolutional.conv2d.Conv2D at 0x7b09c07cdbd0>,\n",
              " <keras.src.layers.normalization.batch_normalization.BatchNormalization at 0x7b0a20182f80>,\n",
              " <keras.src.layers.normalization.batch_normalization.BatchNormalization at 0x7b0a201593c0>,\n",
              " <keras.src.layers.normalization.batch_normalization.BatchNormalization at 0x7b09b36685b0>,\n",
              " <keras.src.layers.normalization.batch_normalization.BatchNormalization at 0x7b09b3687bb0>,\n",
              " <keras.src.layers.convolutional.conv2d.Conv2D at 0x7b09b36844c0>,\n",
              " <keras.src.layers.normalization.batch_normalization.BatchNormalization at 0x7b09c07cf550>,\n",
              " <keras.src.layers.core.activation.Activation at 0x7b0a20182110>,\n",
              " <keras.src.layers.core.activation.Activation at 0x7b0a20181c90>,\n",
              " <keras.src.layers.core.activation.Activation at 0x7b09b3685720>,\n",
              " <keras.src.layers.core.activation.Activation at 0x7b09b3686f20>,\n",
              " <keras.src.layers.normalization.batch_normalization.BatchNormalization at 0x7b09b36a1f60>,\n",
              " <keras.src.layers.core.activation.Activation at 0x7b09c07cd600>,\n",
              " <keras.src.layers.merging.concatenate.Concatenate at 0x7b0a2015a5c0>,\n",
              " <keras.src.layers.merging.concatenate.Concatenate at 0x7b09b3685480>,\n",
              " <keras.src.layers.core.activation.Activation at 0x7b09b36a3460>,\n",
              " <keras.src.layers.merging.concatenate.Concatenate at 0x7b09b36a3d00>,\n",
              " <keras.src.layers.convolutional.conv2d.Conv2D at 0x7b09b3634e80>,\n",
              " <keras.src.layers.normalization.batch_normalization.BatchNormalization at 0x7b09db9294e0>,\n",
              " <keras.src.layers.core.activation.Activation at 0x7b09b3637df0>,\n",
              " <keras.src.layers.convolutional.conv2d.Conv2D at 0x7b09b36863b0>,\n",
              " <keras.src.layers.convolutional.conv2d.Conv2D at 0x7b0a20183220>,\n",
              " <keras.src.layers.normalization.batch_normalization.BatchNormalization at 0x7b0a2015a7d0>,\n",
              " <keras.src.layers.normalization.batch_normalization.BatchNormalization at 0x7b09db92be80>,\n",
              " <keras.src.layers.core.activation.Activation at 0x7b09c0624ca0>,\n",
              " <keras.src.layers.core.activation.Activation at 0x7b09db92afb0>,\n",
              " <keras.src.layers.convolutional.conv2d.Conv2D at 0x7b0a20182260>,\n",
              " <keras.src.layers.convolutional.conv2d.Conv2D at 0x7b09db909a80>,\n",
              " <keras.src.layers.convolutional.conv2d.Conv2D at 0x7b09b36b2050>,\n",
              " <keras.src.layers.convolutional.conv2d.Conv2D at 0x7b09b36b3760>,\n",
              " <keras.src.layers.pooling.average_pooling2d.AveragePooling2D at 0x7b09b36b2110>,\n",
              " <keras.src.layers.convolutional.conv2d.Conv2D at 0x7b09b36a00d0>,\n",
              " <keras.src.layers.normalization.batch_normalization.BatchNormalization at 0x7b09db909cf0>,\n",
              " <keras.src.layers.normalization.batch_normalization.BatchNormalization at 0x7b09b3635480>,\n",
              " <keras.src.layers.normalization.batch_normalization.BatchNormalization at 0x7b09b36b3610>,\n",
              " <keras.src.layers.normalization.batch_normalization.BatchNormalization at 0x7b09db945150>,\n",
              " <keras.src.layers.convolutional.conv2d.Conv2D at 0x7b09db946e60>,\n",
              " <keras.src.layers.normalization.batch_normalization.BatchNormalization at 0x7b09db909060>,\n",
              " <keras.src.layers.core.activation.Activation at 0x7b09db90b970>,\n",
              " <keras.src.layers.core.activation.Activation at 0x7b09b3684ac0>,\n",
              " <keras.src.layers.core.activation.Activation at 0x7b09b36b05e0>,\n",
              " <keras.src.layers.core.activation.Activation at 0x7b09db945000>,\n",
              " <keras.src.layers.normalization.batch_normalization.BatchNormalization at 0x7b09db947850>,\n",
              " <keras.src.layers.core.activation.Activation at 0x7b09b36a3970>,\n",
              " <keras.src.layers.merging.concatenate.Concatenate at 0x7b09b36370d0>,\n",
              " <keras.src.layers.merging.concatenate.Concatenate at 0x7b09db947e20>,\n",
              " <keras.src.layers.core.activation.Activation at 0x7b09db95f520>,\n",
              " <keras.src.layers.merging.concatenate.Concatenate at 0x7b09db95d930>]"
            ]
          },
          "metadata": {},
          "execution_count": 16
        }
      ]
    },
    {
      "cell_type": "code",
      "source": [
        "print(\"Number of Layers from InceptionV3: \" , len(baseModel.layers))"
      ],
      "metadata": {
        "colab": {
          "base_uri": "https://localhost:8080/"
        },
        "id": "Jgm3xfv3pEVu",
        "outputId": "25f5da18-604f-47f1-81ad-999d6103f3dd"
      },
      "execution_count": null,
      "outputs": [
        {
          "output_type": "stream",
          "name": "stdout",
          "text": [
            "Number of Layers from InceptionV3:  311\n"
          ]
        }
      ]
    },
    {
      "cell_type": "code",
      "source": [
        "model = Sequential()\n",
        "model.add(Input(inputShape))\n",
        "model.add(Lambda(preprocess_input))\n",
        "model.add(baseModel)\n",
        "model.add(GlobalAveragePooling2D())\n",
        "model.add(Dropout(0.8))\n",
        "model.add(Dense(len(classes),activation= 'softmax'))\n",
        "\n",
        "model.compile(optimizer=\"adam\",loss='categorical_crossentropy',metrics=['accuracy'])\n",
        "\n",
        "#Training the model.\n"
      ],
      "metadata": {
        "id": "yZS1v_EjL1vp"
      },
      "execution_count": null,
      "outputs": []
    },
    {
      "cell_type": "code",
      "source": [
        "model.summary()"
      ],
      "metadata": {
        "colab": {
          "base_uri": "https://localhost:8080/"
        },
        "id": "lhJvBbvjM-kr",
        "outputId": "0ed4c380-cec0-41fe-a9e2-90a9bd3c2142"
      },
      "execution_count": null,
      "outputs": [
        {
          "output_type": "stream",
          "name": "stdout",
          "text": [
            "Model: \"sequential\"\n",
            "_________________________________________________________________\n",
            " Layer (type)                Output Shape              Param #   \n",
            "=================================================================\n",
            " lambda (Lambda)             (None, 331, 331, 3)       0         \n",
            "                                                                 \n",
            " inception_v3 (Functional)   (None, 9, 9, 2048)        21802784  \n",
            "                                                                 \n",
            " global_average_pooling2d (  (None, 2048)              0         \n",
            " GlobalAveragePooling2D)                                         \n",
            "                                                                 \n",
            " dropout (Dropout)           (None, 2048)              0         \n",
            "                                                                 \n",
            " dense (Dense)               (None, 120)               245880    \n",
            "                                                                 \n",
            "=================================================================\n",
            "Total params: 22048664 (84.11 MB)\n",
            "Trainable params: 245880 (960.47 KB)\n",
            "Non-trainable params: 21802784 (83.17 MB)\n",
            "_________________________________________________________________\n"
          ]
        }
      ]
    },
    {
      "cell_type": "markdown",
      "source": [
        "# Model Training"
      ],
      "metadata": {
        "id": "SAc7J6MW-60t"
      }
    },
    {
      "cell_type": "markdown",
      "source": [
        "Declaring main values for training the model"
      ],
      "metadata": {
        "id": "WN9K6iNH9yy5"
      }
    },
    {
      "cell_type": "code",
      "execution_count": null,
      "metadata": {
        "id": "OS43BKqys2Q5"
      },
      "outputs": [],
      "source": [
        "batch_size= 128\n",
        "epochs=30\n",
        "learn_rate=.001\n",
        "lrr= ReduceLROnPlateau(monitor='val_acc', factor=.01, patience=3, min_lr=1e-5,verbose = 1)\n",
        "EarlyStop = EarlyStopping(monitor='val_loss', patience=10, restore_best_weights=True)"
      ]
    },
    {
      "cell_type": "markdown",
      "source": [
        "Training the model"
      ],
      "metadata": {
        "id": "2q5ou2pk_LoI"
      }
    },
    {
      "cell_type": "code",
      "source": [
        "modelHistory = model.fit(train_X, train_Y,\n",
        "            batch_size=batch_size,\n",
        "            epochs=epochs,\n",
        "            validation_split=0.2,\n",
        "            callbacks=[lrr, EarlyStop])"
      ],
      "metadata": {
        "colab": {
          "base_uri": "https://localhost:8080/"
        },
        "id": "VSwQdotRL7ek",
        "outputId": "a9ad7417-95b6-46c0-d10a-d40b9c96b873"
      },
      "execution_count": null,
      "outputs": [
        {
          "output_type": "stream",
          "name": "stdout",
          "text": [
            "Epoch 1/30\n",
            "64/64 [==============================] - ETA: 0s - loss: 3.4550 - accuracy: 0.3110"
          ]
        },
        {
          "output_type": "stream",
          "name": "stderr",
          "text": [
            "WARNING:tensorflow:Learning rate reduction is conditioned on metric `val_acc` which is not available. Available metrics are: loss,accuracy,val_loss,val_accuracy,lr\n"
          ]
        },
        {
          "output_type": "stream",
          "name": "stdout",
          "text": [
            "\b\b\b\b\b\b\b\b\b\b\b\b\b\b\b\b\b\b\b\b\b\b\b\b\b\b\b\b\b\b\b\b\b\b\b\b\b\b\b\b\b\b\b\b\b\b\b\b\b\b\b\b\b\b\b\b\b\b\b\b\b\b\b\b\b\b\b\b\b\b\b\b\b\b\b\b\b\b\b\b\b\b\r64/64 [==============================] - 115s 1s/step - loss: 3.4550 - accuracy: 0.3110 - val_loss: 1.5322 - val_accuracy: 0.8494 - lr: 0.0010\n",
            "Epoch 2/30\n",
            "64/64 [==============================] - ETA: 0s - loss: 1.2476 - accuracy: 0.7580"
          ]
        },
        {
          "output_type": "stream",
          "name": "stderr",
          "text": [
            "WARNING:tensorflow:Learning rate reduction is conditioned on metric `val_acc` which is not available. Available metrics are: loss,accuracy,val_loss,val_accuracy,lr\n"
          ]
        },
        {
          "output_type": "stream",
          "name": "stdout",
          "text": [
            "\b\b\b\b\b\b\b\b\b\b\b\b\b\b\b\b\b\b\b\b\b\b\b\b\b\b\b\b\b\b\b\b\b\b\b\b\b\b\b\b\b\b\b\b\b\b\b\b\b\b\b\b\b\b\b\b\b\b\b\b\b\b\b\b\b\b\b\b\b\b\b\b\b\b\b\b\b\b\b\b\b\b\r64/64 [==============================] - 44s 695ms/step - loss: 1.2476 - accuracy: 0.7580 - val_loss: 0.6266 - val_accuracy: 0.8958 - lr: 0.0010\n",
            "Epoch 3/30\n",
            "64/64 [==============================] - ETA: 0s - loss: 0.7155 - accuracy: 0.8430"
          ]
        },
        {
          "output_type": "stream",
          "name": "stderr",
          "text": [
            "WARNING:tensorflow:Learning rate reduction is conditioned on metric `val_acc` which is not available. Available metrics are: loss,accuracy,val_loss,val_accuracy,lr\n"
          ]
        },
        {
          "output_type": "stream",
          "name": "stdout",
          "text": [
            "\b\b\b\b\b\b\b\b\b\b\b\b\b\b\b\b\b\b\b\b\b\b\b\b\b\b\b\b\b\b\b\b\b\b\b\b\b\b\b\b\b\b\b\b\b\b\b\b\b\b\b\b\b\b\b\b\b\b\b\b\b\b\b\b\b\b\b\b\b\b\b\b\b\b\b\b\b\b\b\b\b\b\r64/64 [==============================] - 45s 708ms/step - loss: 0.7155 - accuracy: 0.8430 - val_loss: 0.4311 - val_accuracy: 0.9032 - lr: 0.0010\n",
            "Epoch 4/30\n",
            "64/64 [==============================] - ETA: 0s - loss: 0.5507 - accuracy: 0.8639"
          ]
        },
        {
          "output_type": "stream",
          "name": "stderr",
          "text": [
            "WARNING:tensorflow:Learning rate reduction is conditioned on metric `val_acc` which is not available. Available metrics are: loss,accuracy,val_loss,val_accuracy,lr\n"
          ]
        },
        {
          "output_type": "stream",
          "name": "stdout",
          "text": [
            "\b\b\b\b\b\b\b\b\b\b\b\b\b\b\b\b\b\b\b\b\b\b\b\b\b\b\b\b\b\b\b\b\b\b\b\b\b\b\b\b\b\b\b\b\b\b\b\b\b\b\b\b\b\b\b\b\b\b\b\b\b\b\b\b\b\b\b\b\b\b\b\b\b\b\b\b\b\b\b\b\b\b\r64/64 [==============================] - 45s 701ms/step - loss: 0.5507 - accuracy: 0.8639 - val_loss: 0.3585 - val_accuracy: 0.9149 - lr: 0.0010\n",
            "Epoch 5/30\n",
            "64/64 [==============================] - ETA: 0s - loss: 0.4540 - accuracy: 0.8819"
          ]
        },
        {
          "output_type": "stream",
          "name": "stderr",
          "text": [
            "WARNING:tensorflow:Learning rate reduction is conditioned on metric `val_acc` which is not available. Available metrics are: loss,accuracy,val_loss,val_accuracy,lr\n"
          ]
        },
        {
          "output_type": "stream",
          "name": "stdout",
          "text": [
            "\b\b\b\b\b\b\b\b\b\b\b\b\b\b\b\b\b\b\b\b\b\b\b\b\b\b\b\b\b\b\b\b\b\b\b\b\b\b\b\b\b\b\b\b\b\b\b\b\b\b\b\b\b\b\b\b\b\b\b\b\b\b\b\b\b\b\b\b\b\b\b\b\b\b\b\b\b\b\b\b\b\b\r64/64 [==============================] - 45s 702ms/step - loss: 0.4540 - accuracy: 0.8819 - val_loss: 0.3220 - val_accuracy: 0.9100 - lr: 0.0010\n",
            "Epoch 6/30\n",
            "64/64 [==============================] - ETA: 0s - loss: 0.4069 - accuracy: 0.8902"
          ]
        },
        {
          "output_type": "stream",
          "name": "stderr",
          "text": [
            "WARNING:tensorflow:Learning rate reduction is conditioned on metric `val_acc` which is not available. Available metrics are: loss,accuracy,val_loss,val_accuracy,lr\n"
          ]
        },
        {
          "output_type": "stream",
          "name": "stdout",
          "text": [
            "\b\b\b\b\b\b\b\b\b\b\b\b\b\b\b\b\b\b\b\b\b\b\b\b\b\b\b\b\b\b\b\b\b\b\b\b\b\b\b\b\b\b\b\b\b\b\b\b\b\b\b\b\b\b\b\b\b\b\b\b\b\b\b\b\b\b\b\b\b\b\b\b\b\b\b\b\b\b\b\b\b\b\r64/64 [==============================] - 43s 674ms/step - loss: 0.4069 - accuracy: 0.8902 - val_loss: 0.3028 - val_accuracy: 0.9120 - lr: 0.0010\n",
            "Epoch 7/30\n",
            "64/64 [==============================] - ETA: 0s - loss: 0.3819 - accuracy: 0.8905"
          ]
        },
        {
          "output_type": "stream",
          "name": "stderr",
          "text": [
            "WARNING:tensorflow:Learning rate reduction is conditioned on metric `val_acc` which is not available. Available metrics are: loss,accuracy,val_loss,val_accuracy,lr\n"
          ]
        },
        {
          "output_type": "stream",
          "name": "stdout",
          "text": [
            "\b\b\b\b\b\b\b\b\b\b\b\b\b\b\b\b\b\b\b\b\b\b\b\b\b\b\b\b\b\b\b\b\b\b\b\b\b\b\b\b\b\b\b\b\b\b\b\b\b\b\b\b\b\b\b\b\b\b\b\b\b\b\b\b\b\b\b\b\b\b\b\b\b\b\b\b\b\b\b\b\b\b\r64/64 [==============================] - 43s 675ms/step - loss: 0.3819 - accuracy: 0.8905 - val_loss: 0.2875 - val_accuracy: 0.9115 - lr: 0.0010\n",
            "Epoch 8/30\n",
            "64/64 [==============================] - ETA: 0s - loss: 0.3521 - accuracy: 0.8987"
          ]
        },
        {
          "output_type": "stream",
          "name": "stderr",
          "text": [
            "WARNING:tensorflow:Learning rate reduction is conditioned on metric `val_acc` which is not available. Available metrics are: loss,accuracy,val_loss,val_accuracy,lr\n"
          ]
        },
        {
          "output_type": "stream",
          "name": "stdout",
          "text": [
            "\b\b\b\b\b\b\b\b\b\b\b\b\b\b\b\b\b\b\b\b\b\b\b\b\b\b\b\b\b\b\b\b\b\b\b\b\b\b\b\b\b\b\b\b\b\b\b\b\b\b\b\b\b\b\b\b\b\b\b\b\b\b\b\b\b\b\b\b\b\b\b\b\b\b\b\b\b\b\b\b\b\b\r64/64 [==============================] - 45s 702ms/step - loss: 0.3521 - accuracy: 0.8987 - val_loss: 0.2802 - val_accuracy: 0.9139 - lr: 0.0010\n",
            "Epoch 9/30\n",
            "64/64 [==============================] - ETA: 0s - loss: 0.3243 - accuracy: 0.9033"
          ]
        },
        {
          "output_type": "stream",
          "name": "stderr",
          "text": [
            "WARNING:tensorflow:Learning rate reduction is conditioned on metric `val_acc` which is not available. Available metrics are: loss,accuracy,val_loss,val_accuracy,lr\n"
          ]
        },
        {
          "output_type": "stream",
          "name": "stdout",
          "text": [
            "\b\b\b\b\b\b\b\b\b\b\b\b\b\b\b\b\b\b\b\b\b\b\b\b\b\b\b\b\b\b\b\b\b\b\b\b\b\b\b\b\b\b\b\b\b\b\b\b\b\b\b\b\b\b\b\b\b\b\b\b\b\b\b\b\b\b\b\b\b\b\b\b\b\b\b\b\b\b\b\b\b\b\r64/64 [==============================] - 45s 700ms/step - loss: 0.3243 - accuracy: 0.9033 - val_loss: 0.2677 - val_accuracy: 0.9120 - lr: 0.0010\n",
            "Epoch 10/30\n",
            "64/64 [==============================] - ETA: 0s - loss: 0.3065 - accuracy: 0.9110"
          ]
        },
        {
          "output_type": "stream",
          "name": "stderr",
          "text": [
            "WARNING:tensorflow:Learning rate reduction is conditioned on metric `val_acc` which is not available. Available metrics are: loss,accuracy,val_loss,val_accuracy,lr\n"
          ]
        },
        {
          "output_type": "stream",
          "name": "stdout",
          "text": [
            "\b\b\b\b\b\b\b\b\b\b\b\b\b\b\b\b\b\b\b\b\b\b\b\b\b\b\b\b\b\b\b\b\b\b\b\b\b\b\b\b\b\b\b\b\b\b\b\b\b\b\b\b\b\b\b\b\b\b\b\b\b\b\b\b\b\b\b\b\b\b\b\b\b\b\b\b\b\b\b\b\b\b\r64/64 [==============================] - 43s 673ms/step - loss: 0.3065 - accuracy: 0.9110 - val_loss: 0.2661 - val_accuracy: 0.9134 - lr: 0.0010\n",
            "Epoch 11/30\n",
            "64/64 [==============================] - ETA: 0s - loss: 0.2921 - accuracy: 0.9132"
          ]
        },
        {
          "output_type": "stream",
          "name": "stderr",
          "text": [
            "WARNING:tensorflow:Learning rate reduction is conditioned on metric `val_acc` which is not available. Available metrics are: loss,accuracy,val_loss,val_accuracy,lr\n"
          ]
        },
        {
          "output_type": "stream",
          "name": "stdout",
          "text": [
            "\b\b\b\b\b\b\b\b\b\b\b\b\b\b\b\b\b\b\b\b\b\b\b\b\b\b\b\b\b\b\b\b\b\b\b\b\b\b\b\b\b\b\b\b\b\b\b\b\b\b\b\b\b\b\b\b\b\b\b\b\b\b\b\b\b\b\b\b\b\b\b\b\b\b\b\b\b\b\b\b\b\b\r64/64 [==============================] - 45s 703ms/step - loss: 0.2921 - accuracy: 0.9132 - val_loss: 0.2607 - val_accuracy: 0.9174 - lr: 0.0010\n",
            "Epoch 12/30\n",
            "64/64 [==============================] - ETA: 0s - loss: 0.2864 - accuracy: 0.9124"
          ]
        },
        {
          "output_type": "stream",
          "name": "stderr",
          "text": [
            "WARNING:tensorflow:Learning rate reduction is conditioned on metric `val_acc` which is not available. Available metrics are: loss,accuracy,val_loss,val_accuracy,lr\n"
          ]
        },
        {
          "output_type": "stream",
          "name": "stdout",
          "text": [
            "\b\b\b\b\b\b\b\b\b\b\b\b\b\b\b\b\b\b\b\b\b\b\b\b\b\b\b\b\b\b\b\b\b\b\b\b\b\b\b\b\b\b\b\b\b\b\b\b\b\b\b\b\b\b\b\b\b\b\b\b\b\b\b\b\b\b\b\b\b\b\b\b\b\b\b\b\b\b\b\b\b\b\r64/64 [==============================] - 43s 671ms/step - loss: 0.2864 - accuracy: 0.9124 - val_loss: 0.2609 - val_accuracy: 0.9120 - lr: 0.0010\n",
            "Epoch 13/30\n",
            "64/64 [==============================] - ETA: 0s - loss: 0.2690 - accuracy: 0.9187"
          ]
        },
        {
          "output_type": "stream",
          "name": "stderr",
          "text": [
            "WARNING:tensorflow:Learning rate reduction is conditioned on metric `val_acc` which is not available. Available metrics are: loss,accuracy,val_loss,val_accuracy,lr\n"
          ]
        },
        {
          "output_type": "stream",
          "name": "stdout",
          "text": [
            "\b\b\b\b\b\b\b\b\b\b\b\b\b\b\b\b\b\b\b\b\b\b\b\b\b\b\b\b\b\b\b\b\b\b\b\b\b\b\b\b\b\b\b\b\b\b\b\b\b\b\b\b\b\b\b\b\b\b\b\b\b\b\b\b\b\b\b\b\b\b\b\b\b\b\b\b\b\b\b\b\b\b\r64/64 [==============================] - 45s 701ms/step - loss: 0.2690 - accuracy: 0.9187 - val_loss: 0.2558 - val_accuracy: 0.9164 - lr: 0.0010\n",
            "Epoch 14/30\n",
            "64/64 [==============================] - ETA: 0s - loss: 0.2581 - accuracy: 0.9178"
          ]
        },
        {
          "output_type": "stream",
          "name": "stderr",
          "text": [
            "WARNING:tensorflow:Learning rate reduction is conditioned on metric `val_acc` which is not available. Available metrics are: loss,accuracy,val_loss,val_accuracy,lr\n"
          ]
        },
        {
          "output_type": "stream",
          "name": "stdout",
          "text": [
            "\b\b\b\b\b\b\b\b\b\b\b\b\b\b\b\b\b\b\b\b\b\b\b\b\b\b\b\b\b\b\b\b\b\b\b\b\b\b\b\b\b\b\b\b\b\b\b\b\b\b\b\b\b\b\b\b\b\b\b\b\b\b\b\b\b\b\b\b\b\b\b\b\b\b\b\b\b\b\b\b\b\b\r64/64 [==============================] - 45s 701ms/step - loss: 0.2581 - accuracy: 0.9178 - val_loss: 0.2565 - val_accuracy: 0.9125 - lr: 0.0010\n",
            "Epoch 15/30\n",
            "64/64 [==============================] - ETA: 0s - loss: 0.2540 - accuracy: 0.9217"
          ]
        },
        {
          "output_type": "stream",
          "name": "stderr",
          "text": [
            "WARNING:tensorflow:Learning rate reduction is conditioned on metric `val_acc` which is not available. Available metrics are: loss,accuracy,val_loss,val_accuracy,lr\n"
          ]
        },
        {
          "output_type": "stream",
          "name": "stdout",
          "text": [
            "\b\b\b\b\b\b\b\b\b\b\b\b\b\b\b\b\b\b\b\b\b\b\b\b\b\b\b\b\b\b\b\b\b\b\b\b\b\b\b\b\b\b\b\b\b\b\b\b\b\b\b\b\b\b\b\b\b\b\b\b\b\b\b\b\b\b\b\b\b\b\b\b\b\b\b\b\b\b\b\b\b\b\r64/64 [==============================] - 43s 672ms/step - loss: 0.2540 - accuracy: 0.9217 - val_loss: 0.2545 - val_accuracy: 0.9159 - lr: 0.0010\n",
            "Epoch 16/30\n",
            "64/64 [==============================] - ETA: 0s - loss: 0.2383 - accuracy: 0.9241"
          ]
        },
        {
          "output_type": "stream",
          "name": "stderr",
          "text": [
            "WARNING:tensorflow:Learning rate reduction is conditioned on metric `val_acc` which is not available. Available metrics are: loss,accuracy,val_loss,val_accuracy,lr\n"
          ]
        },
        {
          "output_type": "stream",
          "name": "stdout",
          "text": [
            "\b\b\b\b\b\b\b\b\b\b\b\b\b\b\b\b\b\b\b\b\b\b\b\b\b\b\b\b\b\b\b\b\b\b\b\b\b\b\b\b\b\b\b\b\b\b\b\b\b\b\b\b\b\b\b\b\b\b\b\b\b\b\b\b\b\b\b\b\b\b\b\b\b\b\b\b\b\b\b\b\b\b\r64/64 [==============================] - 45s 703ms/step - loss: 0.2383 - accuracy: 0.9241 - val_loss: 0.2538 - val_accuracy: 0.9134 - lr: 0.0010\n",
            "Epoch 17/30\n",
            "64/64 [==============================] - ETA: 0s - loss: 0.2333 - accuracy: 0.9264"
          ]
        },
        {
          "output_type": "stream",
          "name": "stderr",
          "text": [
            "WARNING:tensorflow:Learning rate reduction is conditioned on metric `val_acc` which is not available. Available metrics are: loss,accuracy,val_loss,val_accuracy,lr\n"
          ]
        },
        {
          "output_type": "stream",
          "name": "stdout",
          "text": [
            "\b\b\b\b\b\b\b\b\b\b\b\b\b\b\b\b\b\b\b\b\b\b\b\b\b\b\b\b\b\b\b\b\b\b\b\b\b\b\b\b\b\b\b\b\b\b\b\b\b\b\b\b\b\b\b\b\b\b\b\b\b\b\b\b\b\b\b\b\b\b\b\b\b\b\b\b\b\b\b\b\b\b\r64/64 [==============================] - 43s 672ms/step - loss: 0.2333 - accuracy: 0.9264 - val_loss: 0.2583 - val_accuracy: 0.9144 - lr: 0.0010\n",
            "Epoch 18/30\n",
            "64/64 [==============================] - ETA: 0s - loss: 0.2244 - accuracy: 0.9305"
          ]
        },
        {
          "output_type": "stream",
          "name": "stderr",
          "text": [
            "WARNING:tensorflow:Learning rate reduction is conditioned on metric `val_acc` which is not available. Available metrics are: loss,accuracy,val_loss,val_accuracy,lr\n"
          ]
        },
        {
          "output_type": "stream",
          "name": "stdout",
          "text": [
            "\b\b\b\b\b\b\b\b\b\b\b\b\b\b\b\b\b\b\b\b\b\b\b\b\b\b\b\b\b\b\b\b\b\b\b\b\b\b\b\b\b\b\b\b\b\b\b\b\b\b\b\b\b\b\b\b\b\b\b\b\b\b\b\b\b\b\b\b\b\b\b\b\b\b\b\b\b\b\b\b\b\b\r64/64 [==============================] - 45s 700ms/step - loss: 0.2244 - accuracy: 0.9305 - val_loss: 0.2540 - val_accuracy: 0.9139 - lr: 0.0010\n",
            "Epoch 19/30\n",
            "64/64 [==============================] - ETA: 0s - loss: 0.2230 - accuracy: 0.9252"
          ]
        },
        {
          "output_type": "stream",
          "name": "stderr",
          "text": [
            "WARNING:tensorflow:Learning rate reduction is conditioned on metric `val_acc` which is not available. Available metrics are: loss,accuracy,val_loss,val_accuracy,lr\n"
          ]
        },
        {
          "output_type": "stream",
          "name": "stdout",
          "text": [
            "\b\b\b\b\b\b\b\b\b\b\b\b\b\b\b\b\b\b\b\b\b\b\b\b\b\b\b\b\b\b\b\b\b\b\b\b\b\b\b\b\b\b\b\b\b\b\b\b\b\b\b\b\b\b\b\b\b\b\b\b\b\b\b\b\b\b\b\b\b\b\b\b\b\b\b\b\b\b\b\b\b\b\r64/64 [==============================] - 45s 702ms/step - loss: 0.2230 - accuracy: 0.9252 - val_loss: 0.2511 - val_accuracy: 0.9125 - lr: 0.0010\n",
            "Epoch 20/30\n",
            "64/64 [==============================] - ETA: 0s - loss: 0.2186 - accuracy: 0.9320"
          ]
        },
        {
          "output_type": "stream",
          "name": "stderr",
          "text": [
            "WARNING:tensorflow:Learning rate reduction is conditioned on metric `val_acc` which is not available. Available metrics are: loss,accuracy,val_loss,val_accuracy,lr\n"
          ]
        },
        {
          "output_type": "stream",
          "name": "stdout",
          "text": [
            "\b\b\b\b\b\b\b\b\b\b\b\b\b\b\b\b\b\b\b\b\b\b\b\b\b\b\b\b\b\b\b\b\b\b\b\b\b\b\b\b\b\b\b\b\b\b\b\b\b\b\b\b\b\b\b\b\b\b\b\b\b\b\b\b\b\b\b\b\b\b\b\b\b\b\b\b\b\b\b\b\b\b\r64/64 [==============================] - 43s 672ms/step - loss: 0.2186 - accuracy: 0.9320 - val_loss: 0.2538 - val_accuracy: 0.9105 - lr: 0.0010\n",
            "Epoch 21/30\n",
            "64/64 [==============================] - ETA: 0s - loss: 0.2144 - accuracy: 0.9322"
          ]
        },
        {
          "output_type": "stream",
          "name": "stderr",
          "text": [
            "WARNING:tensorflow:Learning rate reduction is conditioned on metric `val_acc` which is not available. Available metrics are: loss,accuracy,val_loss,val_accuracy,lr\n"
          ]
        },
        {
          "output_type": "stream",
          "name": "stdout",
          "text": [
            "\b\b\b\b\b\b\b\b\b\b\b\b\b\b\b\b\b\b\b\b\b\b\b\b\b\b\b\b\b\b\b\b\b\b\b\b\b\b\b\b\b\b\b\b\b\b\b\b\b\b\b\b\b\b\b\b\b\b\b\b\b\b\b\b\b\b\b\b\b\b\b\b\b\b\b\b\b\b\b\b\b\b\r64/64 [==============================] - 43s 670ms/step - loss: 0.2144 - accuracy: 0.9322 - val_loss: 0.2543 - val_accuracy: 0.9125 - lr: 0.0010\n",
            "Epoch 22/30\n",
            "64/64 [==============================] - ETA: 0s - loss: 0.2019 - accuracy: 0.9380"
          ]
        },
        {
          "output_type": "stream",
          "name": "stderr",
          "text": [
            "WARNING:tensorflow:Learning rate reduction is conditioned on metric `val_acc` which is not available. Available metrics are: loss,accuracy,val_loss,val_accuracy,lr\n"
          ]
        },
        {
          "output_type": "stream",
          "name": "stdout",
          "text": [
            "\b\b\b\b\b\b\b\b\b\b\b\b\b\b\b\b\b\b\b\b\b\b\b\b\b\b\b\b\b\b\b\b\b\b\b\b\b\b\b\b\b\b\b\b\b\b\b\b\b\b\b\b\b\b\b\b\b\b\b\b\b\b\b\b\b\b\b\b\b\b\b\b\b\b\b\b\b\b\b\b\b\b\r64/64 [==============================] - 45s 699ms/step - loss: 0.2019 - accuracy: 0.9380 - val_loss: 0.2527 - val_accuracy: 0.9120 - lr: 0.0010\n",
            "Epoch 23/30\n",
            "64/64 [==============================] - ETA: 0s - loss: 0.1982 - accuracy: 0.9348"
          ]
        },
        {
          "output_type": "stream",
          "name": "stderr",
          "text": [
            "WARNING:tensorflow:Learning rate reduction is conditioned on metric `val_acc` which is not available. Available metrics are: loss,accuracy,val_loss,val_accuracy,lr\n"
          ]
        },
        {
          "output_type": "stream",
          "name": "stdout",
          "text": [
            "\b\b\b\b\b\b\b\b\b\b\b\b\b\b\b\b\b\b\b\b\b\b\b\b\b\b\b\b\b\b\b\b\b\b\b\b\b\b\b\b\b\b\b\b\b\b\b\b\b\b\b\b\b\b\b\b\b\b\b\b\b\b\b\b\b\b\b\b\b\b\b\b\b\b\b\b\b\b\b\b\b\b\r64/64 [==============================] - 45s 700ms/step - loss: 0.1982 - accuracy: 0.9348 - val_loss: 0.2495 - val_accuracy: 0.9115 - lr: 0.0010\n",
            "Epoch 24/30\n",
            "64/64 [==============================] - ETA: 0s - loss: 0.1969 - accuracy: 0.9362"
          ]
        },
        {
          "output_type": "stream",
          "name": "stderr",
          "text": [
            "WARNING:tensorflow:Learning rate reduction is conditioned on metric `val_acc` which is not available. Available metrics are: loss,accuracy,val_loss,val_accuracy,lr\n"
          ]
        },
        {
          "output_type": "stream",
          "name": "stdout",
          "text": [
            "\b\b\b\b\b\b\b\b\b\b\b\b\b\b\b\b\b\b\b\b\b\b\b\b\b\b\b\b\b\b\b\b\b\b\b\b\b\b\b\b\b\b\b\b\b\b\b\b\b\b\b\b\b\b\b\b\b\b\b\b\b\b\b\b\b\b\b\b\b\b\b\b\b\b\b\b\b\b\b\b\b\b\r64/64 [==============================] - 43s 675ms/step - loss: 0.1969 - accuracy: 0.9362 - val_loss: 0.2474 - val_accuracy: 0.9144 - lr: 0.0010\n",
            "Epoch 25/30\n",
            "64/64 [==============================] - ETA: 0s - loss: 0.1953 - accuracy: 0.9351"
          ]
        },
        {
          "output_type": "stream",
          "name": "stderr",
          "text": [
            "WARNING:tensorflow:Learning rate reduction is conditioned on metric `val_acc` which is not available. Available metrics are: loss,accuracy,val_loss,val_accuracy,lr\n"
          ]
        },
        {
          "output_type": "stream",
          "name": "stdout",
          "text": [
            "\b\b\b\b\b\b\b\b\b\b\b\b\b\b\b\b\b\b\b\b\b\b\b\b\b\b\b\b\b\b\b\b\b\b\b\b\b\b\b\b\b\b\b\b\b\b\b\b\b\b\b\b\b\b\b\b\b\b\b\b\b\b\b\b\b\b\b\b\b\b\b\b\b\b\b\b\b\b\b\b\b\b\r64/64 [==============================] - 43s 670ms/step - loss: 0.1953 - accuracy: 0.9351 - val_loss: 0.2542 - val_accuracy: 0.9130 - lr: 0.0010\n",
            "Epoch 26/30\n",
            "64/64 [==============================] - ETA: 0s - loss: 0.1924 - accuracy: 0.9373"
          ]
        },
        {
          "output_type": "stream",
          "name": "stderr",
          "text": [
            "WARNING:tensorflow:Learning rate reduction is conditioned on metric `val_acc` which is not available. Available metrics are: loss,accuracy,val_loss,val_accuracy,lr\n"
          ]
        },
        {
          "output_type": "stream",
          "name": "stdout",
          "text": [
            "\b\b\b\b\b\b\b\b\b\b\b\b\b\b\b\b\b\b\b\b\b\b\b\b\b\b\b\b\b\b\b\b\b\b\b\b\b\b\b\b\b\b\b\b\b\b\b\b\b\b\b\b\b\b\b\b\b\b\b\b\b\b\b\b\b\b\b\b\b\b\b\b\b\b\b\b\b\b\b\b\b\b\r64/64 [==============================] - 43s 671ms/step - loss: 0.1924 - accuracy: 0.9373 - val_loss: 0.2516 - val_accuracy: 0.9090 - lr: 0.0010\n",
            "Epoch 27/30\n",
            "64/64 [==============================] - ETA: 0s - loss: 0.1894 - accuracy: 0.9362"
          ]
        },
        {
          "output_type": "stream",
          "name": "stderr",
          "text": [
            "WARNING:tensorflow:Learning rate reduction is conditioned on metric `val_acc` which is not available. Available metrics are: loss,accuracy,val_loss,val_accuracy,lr\n"
          ]
        },
        {
          "output_type": "stream",
          "name": "stdout",
          "text": [
            "\b\b\b\b\b\b\b\b\b\b\b\b\b\b\b\b\b\b\b\b\b\b\b\b\b\b\b\b\b\b\b\b\b\b\b\b\b\b\b\b\b\b\b\b\b\b\b\b\b\b\b\b\b\b\b\b\b\b\b\b\b\b\b\b\b\b\b\b\b\b\b\b\b\b\b\b\b\b\b\b\b\b\r64/64 [==============================] - 43s 667ms/step - loss: 0.1894 - accuracy: 0.9362 - val_loss: 0.2534 - val_accuracy: 0.9095 - lr: 0.0010\n",
            "Epoch 28/30\n",
            "64/64 [==============================] - ETA: 0s - loss: 0.1840 - accuracy: 0.9386"
          ]
        },
        {
          "output_type": "stream",
          "name": "stderr",
          "text": [
            "WARNING:tensorflow:Learning rate reduction is conditioned on metric `val_acc` which is not available. Available metrics are: loss,accuracy,val_loss,val_accuracy,lr\n"
          ]
        },
        {
          "output_type": "stream",
          "name": "stdout",
          "text": [
            "\b\b\b\b\b\b\b\b\b\b\b\b\b\b\b\b\b\b\b\b\b\b\b\b\b\b\b\b\b\b\b\b\b\b\b\b\b\b\b\b\b\b\b\b\b\b\b\b\b\b\b\b\b\b\b\b\b\b\b\b\b\b\b\b\b\b\b\b\b\b\b\b\b\b\b\b\b\b\b\b\b\b\r64/64 [==============================] - 43s 669ms/step - loss: 0.1840 - accuracy: 0.9386 - val_loss: 0.2541 - val_accuracy: 0.9115 - lr: 0.0010\n",
            "Epoch 29/30\n",
            "64/64 [==============================] - ETA: 0s - loss: 0.1794 - accuracy: 0.9420"
          ]
        },
        {
          "output_type": "stream",
          "name": "stderr",
          "text": [
            "WARNING:tensorflow:Learning rate reduction is conditioned on metric `val_acc` which is not available. Available metrics are: loss,accuracy,val_loss,val_accuracy,lr\n"
          ]
        },
        {
          "output_type": "stream",
          "name": "stdout",
          "text": [
            "\b\b\b\b\b\b\b\b\b\b\b\b\b\b\b\b\b\b\b\b\b\b\b\b\b\b\b\b\b\b\b\b\b\b\b\b\b\b\b\b\b\b\b\b\b\b\b\b\b\b\b\b\b\b\b\b\b\b\b\b\b\b\b\b\b\b\b\b\b\b\b\b\b\b\b\b\b\b\b\b\b\b\r64/64 [==============================] - 44s 696ms/step - loss: 0.1794 - accuracy: 0.9420 - val_loss: 0.2550 - val_accuracy: 0.9095 - lr: 0.0010\n",
            "Epoch 30/30\n",
            "64/64 [==============================] - ETA: 0s - loss: 0.1805 - accuracy: 0.9407"
          ]
        },
        {
          "output_type": "stream",
          "name": "stderr",
          "text": [
            "WARNING:tensorflow:Learning rate reduction is conditioned on metric `val_acc` which is not available. Available metrics are: loss,accuracy,val_loss,val_accuracy,lr\n"
          ]
        },
        {
          "output_type": "stream",
          "name": "stdout",
          "text": [
            "\b\b\b\b\b\b\b\b\b\b\b\b\b\b\b\b\b\b\b\b\b\b\b\b\b\b\b\b\b\b\b\b\b\b\b\b\b\b\b\b\b\b\b\b\b\b\b\b\b\b\b\b\b\b\b\b\b\b\b\b\b\b\b\b\b\b\b\b\b\b\b\b\b\b\b\b\b\b\b\b\b\b\r64/64 [==============================] - 44s 695ms/step - loss: 0.1805 - accuracy: 0.9407 - val_loss: 0.2526 - val_accuracy: 0.9134 - lr: 0.0010\n"
          ]
        }
      ]
    },
    {
      "cell_type": "code",
      "execution_count": null,
      "metadata": {
        "colab": {
          "base_uri": "https://localhost:8080/"
        },
        "id": "nDlFGIhpyIhx",
        "outputId": "dc591208-0c50-4392-de91-c9c0bb528d05"
      },
      "outputs": [
        {
          "output_type": "execute_result",
          "data": {
            "text/plain": [
              "10502"
            ]
          },
          "metadata": {},
          "execution_count": 23
        }
      ],
      "source": [
        "del train_X\n",
        "gc.collect()"
      ]
    },
    {
      "cell_type": "markdown",
      "source": [
        "**Plotting Training Graphs**"
      ],
      "metadata": {
        "id": "jqCKaZxXJus0"
      }
    },
    {
      "cell_type": "code",
      "source": [
        "# Plotting Loss Graph\n",
        "plt.figure(figsize=(10, 4))\n",
        "plt.subplot(1, 2, 1)\n",
        "plt.plot(modelHistory.history['loss'])\n",
        "plt.plot(modelHistory.history['val_loss'])\n",
        "plt.legend(['loss', 'val_loss'])\n",
        "plt.ylabel('loss')\n",
        "plt.xlabel('epoch')\n",
        "\n",
        "# Plotting Accuracy Graph\n",
        "plt.subplot(1, 2, 2)\n",
        "plt.plot(modelHistory.history['accuracy'])\n",
        "plt.plot(modelHistory.history['val_accuracy'])\n",
        "plt.legend(['accuracy', 'val_accuracy'])\n",
        "plt.ylabel('accuracy')\n",
        "plt.xlabel('epoch')"
      ],
      "metadata": {
        "colab": {
          "base_uri": "https://localhost:8080/",
          "height": 406
        },
        "id": "nvTsdYa3vu0K",
        "outputId": "555eb1aa-161f-4198-8ed8-3d2a0c961af8"
      },
      "execution_count": null,
      "outputs": [
        {
          "output_type": "execute_result",
          "data": {
            "text/plain": [
              "Text(0.5, 0, 'epoch')"
            ]
          },
          "metadata": {},
          "execution_count": 24
        },
        {
          "output_type": "display_data",
          "data": {
            "text/plain": [
              "<Figure size 1000x400 with 2 Axes>"
            ],
            "image/png": "[encoded data removed]"
          },
          "metadata": {}
        }
      ]
    },
    {
      "cell_type": "markdown",
      "source": [
        "# Model Testing"
      ],
      "metadata": {
        "id": "yp-LB_Kv_5bf"
      }
    },
    {
      "cell_type": "markdown",
      "source": [
        "Create Test Data\n",
        "\n",
        "\n",
        "1.   test_X: Testing Images\n",
        "2.   test_Y: Coressponding Labels for test images\n",
        "\n"
      ],
      "metadata": {
        "id": "xCwdhOEQ_-vR"
      }
    },
    {
      "cell_type": "code",
      "source": [
        "t = time.time()\n",
        "\n",
        "input_shape = (331,331,3)\n",
        "test_dir = '/content/dog-breed-classification/DATASET/test_images';\n",
        "labels = dogBreedTestLabels[:]\n",
        "\n",
        "image_labels = labels['breed']\n",
        "test_X = np.zeros([len(labels), input_shape[0], input_shape[1], input_shape[2]],dtype=np.uint8)\n",
        "test_Y = np.zeros([len(labels),1],dtype = np.uint8)\n",
        "\n",
        "for ix, image_name in enumerate(tqdm(labels['id'].values)):\n",
        "  try:\n",
        "\n",
        "    image_dir = os.path.join(test_dir, image_name + '.jpg')\n",
        "\n",
        "    breed_image = load_img(image_dir, target_size = input_shape)\n",
        "    test_X[ix]= breed_image\n",
        "    del breed_image\n",
        "\n",
        "    dog_breed = image_labels[ix]\n",
        "    test_Y[ix] = encodedTestClasses[dog_breed]\n",
        "  except:\n",
        "    continue\n",
        "\n",
        "\n",
        "test_Y = to_categorical(test_Y)\n",
        "\n",
        "print('runtime in seconds: {}'.format(time.time() - t))"
      ],
      "metadata": {
        "colab": {
          "base_uri": "https://localhost:8080/",
          "height": 67,
          "referenced_widgets": [
            "b5c61eba7972481da9552fe013117ec3",
            "efba04dba4dd4e949d7c379629c4c63c",
            "51872b06a16e4a729698a7a35011def1",
            "f9123100b4084c44a9571bb7184e7c42",
            "1ba6735aaf8e452a9d8e85afae72df6f",
            "83b1db5d8b6f46aab417c773927928f0",
            "2d8c5ef889044ff4af66d044c4abee5d",
            "0db301fbe81b44ad88ff765e7a05cea1",
            "744b5c740300473e9144f4b429decd3c",
            "9dee325a440d48f6a5a9bfaa3f9392d3",
            "f6a71e2369384ecfbdd024941ccfc159"
          ]
        },
        "id": "ElSnBNGK3INV",
        "outputId": "9dd44f2b-cb36-47d7-81d1-7b2a3709d41a"
      },
      "execution_count": null,
      "outputs": [
        {
          "output_type": "display_data",
          "data": {
            "text/plain": [
              "  0%|          | 0/9600 [00:00<?, ?it/s]"
            ],
            "application/vnd.jupyter.widget-view+json": {
              "version_major": 2,
              "version_minor": 0,
              "model_id": "b5c61eba7972481da9552fe013117ec3"
            }
          },
          "metadata": {}
        },
        {
          "output_type": "stream",
          "name": "stdout",
          "text": [
            "runtime in seconds: 20.600528717041016\n"
          ]
        }
      ]
    },
    {
      "cell_type": "markdown",
      "source": [
        "Plotting Sample Images of Test Data"
      ],
      "metadata": {
        "id": "-N_lYBtxAasK"
      }
    },
    {
      "cell_type": "code",
      "source": [
        "\n",
        "plt.figure(figsize=(20,20))\n",
        "\n",
        "for i in range(25):\n",
        "  ax = plt.subplot(5,5, i+1)\n",
        "  plt.title(classesTest[np.where(test_Y[i] ==1)[0][0]])\n",
        "  plt.imshow(test_X[i].astype('int32'))"
      ],
      "metadata": {
        "colab": {
          "base_uri": "https://localhost:8080/",
          "height": 998
        },
        "id": "tHuVQsvkAX8s",
        "outputId": "aa814f67-5035-4c8e-8887-affd030b9b21"
      },
      "execution_count": null,
      "outputs": []
    },
    {
      "cell_type": "markdown",
      "source": [
        "**Predicting the test images**"
      ],
      "metadata": {
        "id": "zWTSNTGvBJTx"
      }
    },
    {
      "cell_type": "code",
      "source": [
        "pred = model.predict(test_X)\n",
        "print(pred)"
      ],
      "metadata": {
        "colab": {
          "base_uri": "https://localhost:8080/"
        },
        "id": "zs2527D-BFzs",
        "outputId": "99275fb1-f9c8-4fc5-a233-0d90e36400d7"
      },
      "execution_count": null,
      "outputs": [
        {
          "output_type": "stream",
          "name": "stdout",
          "text": [
            "300/300 [==============================] - 46s 132ms/step\n",
            "[[3.3567474e-07 2.2257968e-06 2.1602521e-06 ... 6.8728655e-06\n",
            "  1.1338866e-07 3.0449639e-05]\n",
            " [4.2146771e-06 1.1459493e-06 2.7768353e-06 ... 1.0018931e-06\n",
            "  1.4080069e-07 1.1821798e-05]\n",
            " [2.7118517e-07 3.9453147e-07 3.6756235e-06 ... 2.9641322e-03\n",
            "  2.6110334e-07 3.1570224e-05]\n",
            " ...\n",
            " [5.7484482e-07 4.7364588e-06 9.9819797e-01 ... 2.0500145e-05\n",
            "  8.0932938e-07 6.0980178e-06]\n",
            " [5.2161897e-07 4.3802766e-06 9.9896026e-01 ... 6.4658525e-05\n",
            "  1.5646584e-07 2.4221256e-06]\n",
            " [9.2295079e-07 2.1160490e-06 9.9676752e-01 ... 2.6977179e-05\n",
            "  5.0187811e-07 2.0992613e-06]]\n"
          ]
        }
      ]
    },
    {
      "cell_type": "code",
      "source": [
        "# First prediction\n",
        "print(pred[0])\n",
        "print(f\"Highest Probability: {np.max(pred[0])}\") # the max probability value predicted by the model\n",
        "print(f\"Index: {np.argmax(pred[0])}\") # the index of where the max value in predictions[0] occurs\n",
        "print(f\"Predicted label: {classes[np.argmax(pred[0])]}\")"
      ],
      "metadata": {
        "colab": {
          "base_uri": "https://localhost:8080/"
        },
        "id": "NzE8xYzsAF27",
        "outputId": "21c529a4-ed10-43cf-b236-13b21da7dcd9"
      },
      "execution_count": null,
      "outputs": [
        {
          "output_type": "stream",
          "name": "stdout",
          "text": [
            "[3.35674741e-07 2.22579683e-06 2.16025205e-06 1.98688113e-07\n",
            " 1.05871072e-06 1.78211712e-06 2.37440943e-07 1.72714717e-04\n",
            " 1.90388207e-07 4.26204388e-05 1.78011177e-07 2.58421835e-08\n",
            " 1.26614214e-06 4.01351235e-06 1.59351123e-06 3.38742893e-06\n",
            " 6.50752952e-07 8.95028563e-07 8.38686844e-08 1.31317947e-05\n",
            " 2.62110939e-06 1.12174405e-06 2.11197357e-06 4.18370405e-07\n",
            " 1.15242676e-06 5.77042329e-07 2.75693878e-07 1.33236972e-04\n",
            " 1.12066353e-07 9.96158838e-01 1.22906030e-07 3.07643205e-07\n",
            " 1.01574324e-06 8.86532234e-06 2.81257861e-08 1.84314695e-06\n",
            " 5.57457042e-06 2.95651000e-04 6.07371931e-07 5.20574019e-07\n",
            " 9.74945124e-07 6.25603107e-08 2.10173724e-07 5.41615555e-05\n",
            " 2.64927479e-07 1.08642162e-05 1.14727982e-05 2.22569369e-07\n",
            " 3.90326505e-07 2.61959485e-06 1.74691721e-07 1.03637569e-06\n",
            " 4.27037179e-07 1.16380704e-06 2.42571531e-07 2.34729203e-04\n",
            " 1.83213069e-06 2.72415946e-07 8.26426358e-08 1.52118218e-07\n",
            " 8.43399175e-06 4.07598378e-07 1.55426905e-09 6.31138158e-04\n",
            " 1.21990055e-07 1.76209653e-07 1.36342733e-08 1.55710222e-06\n",
            " 4.52363651e-07 4.82716374e-08 1.92853022e-07 6.36589448e-07\n",
            " 1.62015272e-06 7.78556682e-07 1.65144738e-04 4.27264968e-05\n",
            " 7.94524840e-06 1.18877279e-06 4.82482790e-07 2.00808017e-06\n",
            " 2.51963365e-06 1.83435186e-05 2.16722128e-07 2.54221476e-07\n",
            " 1.78893606e-05 4.25246026e-06 8.70641903e-04 1.14513305e-05\n",
            " 1.78822552e-06 5.39977009e-07 4.81339384e-07 1.14094860e-06\n",
            " 1.28478590e-07 5.75975992e-06 1.47338511e-07 5.12724801e-05\n",
            " 8.12621636e-07 4.12079828e-07 3.44732058e-07 5.14334545e-07\n",
            " 4.78475215e-07 2.48127217e-05 6.16600528e-06 1.05625162e-07\n",
            " 1.23056464e-06 3.35805566e-06 1.78651320e-07 4.64783028e-07\n",
            " 6.50211973e-07 3.60169054e-07 4.75918796e-06 8.71317170e-04\n",
            " 6.74673629e-06 6.56533985e-07 6.45644434e-07 5.89396279e-07\n",
            " 9.19327590e-07 6.87286547e-06 1.13388658e-07 3.04496389e-05]\n",
            "Highest Probability: 0.9961588382720947\n",
            "Index: 29\n",
            "Predicted label: chihuahua\n"
          ]
        }
      ]
    },
    {
      "cell_type": "code",
      "source": [
        "del test_X\n",
        "gc.collect()"
      ],
      "metadata": {
        "colab": {
          "base_uri": "https://localhost:8080/"
        },
        "id": "KThkifte_9_Y",
        "outputId": "60222ca0-1a7a-4e10-a11d-b4c59c1f82b8"
      },
      "execution_count": null,
      "outputs": [
        {
          "output_type": "execute_result",
          "data": {
            "text/plain": [
              "76462"
            ]
          },
          "metadata": {},
          "execution_count": 30
        }
      ]
    },
    {
      "cell_type": "markdown",
      "source": [
        "# Model Evaluation\n",
        "\n",
        "This section evaluates the performance of the model. Accuracy, precision, recall and F1 score will be utilized to determine the performance of the model."
      ],
      "metadata": {
        "id": "ZyNZ4KICBVa0"
      }
    },
    {
      "cell_type": "code",
      "source": [
        "from sklearn.metrics import classification_report\n",
        "\n",
        "\n",
        "y_pred = np.argmax(pred, axis=1)\n",
        "y_true = np.argmax(test_Y, axis=1)\n",
        "report = classification_report(y_true, y_pred, target_names=classes)\n",
        "\n",
        "print(\"Classification Report:\")\n",
        "print(report)\n"
      ],
      "metadata": {
        "colab": {
          "base_uri": "https://localhost:8080/"
        },
        "id": "-Km0qL1EBqG1",
        "outputId": "473e9244-6e44-40ab-9613-d304031638cf"
      },
      "execution_count": null,
      "outputs": [
        {
          "output_type": "stream",
          "name": "stdout",
          "text": [
            "Classification Report:\n",
            "                                precision    recall  f1-score   support\n",
            "\n",
            "                 affenpinscher       0.97      0.95      0.96        80\n",
            "                  afghan_hound       0.96      0.99      0.98        80\n",
            "           african_hunting_dog       0.99      1.00      0.99        80\n",
            "                      airedale       0.96      0.97      0.97        80\n",
            "american_staffordshire_terrier       0.89      0.69      0.77        80\n",
            "                   appenzeller       0.88      0.79      0.83        80\n",
            "            australian_terrier       0.96      0.95      0.96        80\n",
            "                       basenji       0.97      0.96      0.97        80\n",
            "                        basset       0.99      0.99      0.99        80\n",
            "                        beagle       0.88      0.95      0.92        80\n",
            "            bedlington_terrier       1.00      0.99      0.99        80\n",
            "          bernese_mountain_dog       0.89      0.96      0.92        80\n",
            "       black-and-tan_coonhound       0.97      0.97      0.97        80\n",
            "              blenheim_spaniel       0.99      0.99      0.99        80\n",
            "                    bloodhound       0.94      1.00      0.97        80\n",
            "                      bluetick       0.96      0.94      0.95        80\n",
            "                 border_collie       0.78      0.89      0.83        80\n",
            "                border_terrier       0.96      0.97      0.97        80\n",
            "                        borzoi       0.99      0.99      0.99        80\n",
            "                   boston_bull       0.98      0.99      0.98        80\n",
            "          bouvier_des_flandres       0.93      1.00      0.96        80\n",
            "                         boxer       0.93      0.95      0.94        80\n",
            "             brabancon_griffon       0.99      0.95      0.97        80\n",
            "                        briard       0.97      0.96      0.97        80\n",
            "              brittany_spaniel       0.93      0.97      0.95        80\n",
            "                  bull_mastiff       0.96      0.94      0.95        80\n",
            "                         cairn       0.93      0.94      0.93        80\n",
            "                      cardigan       0.95      0.86      0.90        80\n",
            "      chesapeake_bay_retriever       0.91      0.97      0.94        80\n",
            "                     chihuahua       1.00      0.93      0.96        80\n",
            "                          chow       0.99      0.99      0.99        80\n",
            "                       clumber       1.00      0.97      0.99        80\n",
            "                cocker_spaniel       0.96      0.91      0.94        80\n",
            "                        collie       0.73      0.74      0.73        80\n",
            "        curly-coated_retriever       1.00      0.94      0.97        80\n",
            "                dandie_dinmont       0.98      0.99      0.98        80\n",
            "                         dhole       0.99      0.96      0.97        80\n",
            "                         dingo       0.92      0.91      0.92        80\n",
            "                      doberman       0.96      0.96      0.96        80\n",
            "              english_foxhound       0.92      0.74      0.82        80\n",
            "                english_setter       1.00      0.94      0.97        80\n",
            "              english_springer       0.99      1.00      0.99        80\n",
            "                   entlebucher       0.94      0.90      0.92        80\n",
            "                    eskimo_dog       0.86      0.40      0.55        80\n",
            "         flat-coated_retriever       0.94      0.99      0.96        80\n",
            "                french_bulldog       0.97      0.97      0.97        80\n",
            "               german_shepherd       1.00      0.96      0.98        80\n",
            "   german_short-haired_pointer       0.99      0.97      0.98        80\n",
            "               giant_schnauzer       0.89      0.89      0.89        80\n",
            "              golden_retriever       0.96      0.96      0.96        80\n",
            "                 gordon_setter       1.00      0.99      0.99        80\n",
            "                    great_dane       0.99      0.97      0.98        80\n",
            "                great_pyrenees       0.87      0.99      0.92        80\n",
            "    greater_swiss_mountain_dog       0.90      0.95      0.93        80\n",
            "                   groenendael       0.97      0.96      0.97        80\n",
            "                  ibizan_hound       0.96      0.97      0.97        80\n",
            "                  irish_setter       0.99      1.00      0.99        80\n",
            "                 irish_terrier       0.97      0.94      0.96        80\n",
            "           irish_water_spaniel       0.99      1.00      0.99        80\n",
            "               irish_wolfhound       0.93      0.95      0.94        80\n",
            "             italian_greyhound       0.94      0.95      0.94        80\n",
            "              japanese_spaniel       0.97      0.96      0.97        80\n",
            "                      keeshond       1.00      0.99      0.99        80\n",
            "                        kelpie       0.95      0.86      0.90        80\n",
            "            kerry_blue_terrier       1.00      0.93      0.96        80\n",
            "                      komondor       0.99      0.97      0.98        80\n",
            "                        kuvasz       1.00      0.90      0.95        80\n",
            "            labrador_retriever       0.95      0.96      0.96        80\n",
            "              lakeland_terrier       0.87      0.96      0.91        80\n",
            "                      leonberg       0.99      0.99      0.99        80\n",
            "                         lhasa       0.90      0.82      0.86        80\n",
            "                      malamute       0.85      0.88      0.86        80\n",
            "                      malinois       0.96      0.99      0.98        80\n",
            "                   maltese_dog       0.92      0.96      0.94        80\n",
            "              mexican_hairless       0.98      1.00      0.99        80\n",
            "            miniature_pinscher       0.95      0.95      0.95        80\n",
            "              miniature_poodle       0.79      0.88      0.83        80\n",
            "           miniature_schnauzer       0.90      0.86      0.88        80\n",
            "                  newfoundland       0.92      0.96      0.94        80\n",
            "               norfolk_terrier       0.93      0.89      0.91        80\n",
            "            norwegian_elkhound       0.94      0.97      0.96        80\n",
            "               norwich_terrier       0.95      0.90      0.92        80\n",
            "          old_english_sheepdog       0.93      0.99      0.96        80\n",
            "                    otterhound       0.99      0.94      0.96        80\n",
            "                      papillon       0.98      1.00      0.99        80\n",
            "                      pekinese       0.97      0.95      0.96        80\n",
            "                      pembroke       0.88      0.97      0.92        80\n",
            "                    pomeranian       0.99      0.99      0.99        80\n",
            "                           pug       0.97      0.96      0.97        80\n",
            "                       redbone       0.94      0.95      0.94        80\n",
            "           rhodesian_ridgeback       0.92      0.95      0.93        80\n",
            "                    rottweiler       1.00      1.00      1.00        80\n",
            "                 saint_bernard       0.97      0.96      0.97        80\n",
            "                        saluki       1.00      0.99      0.99        80\n",
            "                       samoyed       0.99      1.00      0.99        80\n",
            "                    schipperke       0.98      0.99      0.98        80\n",
            "                scotch_terrier       0.97      0.96      0.97        80\n",
            "            scottish_deerhound       0.95      0.95      0.95        80\n",
            "              sealyham_terrier       0.95      0.99      0.97        80\n",
            "             shetland_sheepdog       0.97      0.84      0.90        80\n",
            "                      shih-tzu       0.82      0.94      0.88        80\n",
            "                siberian_husky       0.64      0.96      0.77        80\n",
            "                 silky_terrier       0.92      0.91      0.92        80\n",
            "   soft-coated_wheaten_terrier       0.97      0.93      0.95        80\n",
            "     staffordshire_bullterrier       0.74      0.90      0.81        80\n",
            "               standard_poodle       0.90      0.97      0.93        80\n",
            "            standard_schnauzer       0.84      0.81      0.83        80\n",
            "                sussex_spaniel       1.00      0.97      0.99        80\n",
            "               tibetan_mastiff       1.00      0.89      0.94        80\n",
            "               tibetan_terrier       0.94      0.91      0.92        80\n",
            "                    toy_poodle       0.94      0.76      0.84        80\n",
            "                   toy_terrier       0.92      0.95      0.93        80\n",
            "                        vizsla       0.97      0.85      0.91        80\n",
            "                  walker_hound       0.76      0.89      0.82        80\n",
            "                    weimaraner       0.96      0.97      0.97        80\n",
            "        welsh_springer_spaniel       0.95      0.96      0.96        80\n",
            "   west_highland_white_terrier       0.93      0.96      0.94        80\n",
            "                       whippet       0.93      0.96      0.94        80\n",
            "       wire-haired_fox_terrier       0.96      0.89      0.92        80\n",
            "             yorkshire_terrier       0.83      0.97      0.90        80\n",
            "\n",
            "                      accuracy                           0.94      9600\n",
            "                     macro avg       0.94      0.94      0.94      9600\n",
            "                  weighted avg       0.94      0.94      0.94      9600\n",
            "\n"
          ]
        }
      ]
    },
    {
      "cell_type": "markdown",
      "source": [
        "# Predicting Breed of a Custom Input"
      ],
      "metadata": {
        "id": "ULXdHXNqBvB2"
      }
    },
    {
      "cell_type": "code",
      "source": [
        "from IPython.display import display, Image\n",
        "Image('/content/col.jpeg')"
      ],
      "metadata": {
        "colab": {
          "base_uri": "https://localhost:8080/",
          "height": 200
        },
        "id": "U_uIrALlBMU8",
        "outputId": "25b15b2c-87ea-486d-f0b9-b440247823ff"
      },
      "execution_count": null,
      "outputs": [
        {
          "output_type": "execute_result",
          "data": {
            "image/jpeg": "[encoded data removed]",
            "text/plain": [
              "<IPython.core.display.Image object>"
            ]
          },
          "metadata": {},
          "execution_count": 32
        }
      ]
    },
    {
      "cell_type": "code",
      "source": [
        "customInput = load_img('/content/col.jpeg',target_size = input_shape)\n",
        "customInput = np.expand_dims(customInput, axis=0) # as we trained our model in (row, img_height, img_width, img_rgb) format, np.expand_dims convert the image into this format\n"
      ],
      "metadata": {
        "id": "HFT9w7nVB2al"
      },
      "execution_count": null,
      "outputs": []
    },
    {
      "cell_type": "code",
      "source": [
        "predg = model.predict(customInput)\n",
        "\n",
        "print(f\"Predicted label: {classes[np.argmax(predg[0])]}\")\n",
        "print(f\"Probability of prediction): {round(np.max(predg[0])) * 100}%\")"
      ],
      "metadata": {
        "colab": {
          "base_uri": "https://localhost:8080/"
        },
        "id": "dpTWl1oOB-GT",
        "outputId": "41cda211-3675-4af1-cfb4-5bf118ce99a5"
      },
      "execution_count": null,
      "outputs": [
        {
          "output_type": "stream",
          "name": "stdout",
          "text": [
            "1/1 [==============================] - 0s 46ms/step\n",
            "Predicted label: collie\n",
            "Probability of prediction): 100%\n"
          ]
        }
      ]
    },
    {
      "cell_type": "markdown",
      "source": [
        "# Exporting the Model"
      ],
      "metadata": {
        "id": "XLVRB6Y9wnE_"
      }
    },
    {
      "cell_type": "code",
      "source": [
        "# Downloading the model to deploy in a python environment\n",
        "model.save(\"model.h5\")"
      ],
      "metadata": {
        "colab": {
          "base_uri": "https://localhost:8080/"
        },
        "id": "5DloAm1bwjaY",
        "outputId": "1c405eaf-c351-4c1e-a2b2-e756fb9d116a"
      },
      "execution_count": null,
      "outputs": [
        {
          "output_type": "stream",
          "name": "stderr",
          "text": [
            "/usr/local/lib/python3.10/dist-packages/keras/src/engine/training.py:3103: UserWarning: You are saving your model as an HDF5 file via `model.save()`. This file format is considered legacy. We recommend using instead the native Keras format, e.g. `model.save('my_model.keras')`.\n",
            "  saving_api.save_model(\n"
          ]
        }
      ]
    },
    {
      "cell_type": "code",
      "source": [
        "!pip install tensorflowjs"
      ],
      "metadata": {
        "colab": {
          "base_uri": "https://localhost:8080/"
        },
        "id": "jBMNASGhwyhr",
        "outputId": "f91dc10e-2a1a-42d2-c0dd-9b79f5b44cb2"
      },
      "execution_count": null,
      "outputs": [
        {
          "output_type": "stream",
          "name": "stdout",
          "text": [
            "Collecting tensorflowjs\n",
            "  Downloading tensorflowjs-4.17.0-py3-none-any.whl (89 kB)\n",
            "\u001b[?25l     \u001b[90m━━━━━━━━━━━━━━━━━━━━━━━━━━━━━━━━━━━━━━━━\u001b[0m \u001b[32m0.0/89.1 kB\u001b[0m \u001b[31m?\u001b[0m eta \u001b[36m-:--:--\u001b[0m\r\u001b[2K     \u001b[90m━━━━━━━━━━━━━━━━━━━━━━━━━━━━━━━━━━━━━━━━\u001b[0m \u001b[32m89.1/89.1 kB\u001b[0m \u001b[31m3.3 MB/s\u001b[0m eta \u001b[36m0:00:00\u001b[0m\n",
            "\u001b[?25hRequirement already satisfied: flax>=0.7.2 in /usr/local/lib/python3.10/dist-packages (from tensorflowjs) (0.8.1)\n",
            "Requirement already satisfied: importlib_resources>=5.9.0 in /usr/local/lib/python3.10/dist-packages (from tensorflowjs) (6.1.2)\n",
            "Requirement already satisfied: jax>=0.4.13 in /usr/local/lib/python3.10/dist-packages (from tensorflowjs) (0.4.23)\n",
            "Requirement already satisfied: jaxlib>=0.4.13 in /usr/local/lib/python3.10/dist-packages (from tensorflowjs) (0.4.23+cuda12.cudnn89)\n",
            "Requirement already satisfied: tensorflow<3,>=2.13.0 in /usr/local/lib/python3.10/dist-packages (from tensorflowjs) (2.15.0)\n",
            "Collecting tensorflow-decision-forests>=1.5.0 (from tensorflowjs)\n",
            "  Downloading tensorflow_decision_forests-1.8.1-cp310-cp310-manylinux_2_17_x86_64.manylinux2014_x86_64.whl (15.3 MB)\n",
            "\u001b[2K     \u001b[90m━━━━━━━━━━━━━━━━━━━━━━━━━━━━━━━━━━━━━━━━\u001b[0m \u001b[32m15.3/15.3 MB\u001b[0m \u001b[31m26.3 MB/s\u001b[0m eta \u001b[36m0:00:00\u001b[0m\n",
            "\u001b[?25hRequirement already satisfied: six<2,>=1.16.0 in /usr/local/lib/python3.10/dist-packages (from tensorflowjs) (1.16.0)\n",
            "Requirement already satisfied: tensorflow-hub>=0.14.0 in /usr/local/lib/python3.10/dist-packages (from tensorflowjs) (0.16.1)\n",
            "Requirement already satisfied: packaging~=23.1 in /usr/local/lib/python3.10/dist-packages (from tensorflowjs) (23.2)\n",
            "Requirement already satisfied: numpy>=1.22 in /usr/local/lib/python3.10/dist-packages (from flax>=0.7.2->tensorflowjs) (1.25.2)\n",
            "Requirement already satisfied: msgpack in /usr/local/lib/python3.10/dist-packages (from flax>=0.7.2->tensorflowjs) (1.0.7)\n",
            "Requirement already satisfied: optax in /usr/local/lib/python3.10/dist-packages (from flax>=0.7.2->tensorflowjs) (0.1.9)\n",
            "Requirement already satisfied: orbax-checkpoint in /usr/local/lib/python3.10/dist-packages (from flax>=0.7.2->tensorflowjs) (0.4.4)\n",
            "Requirement already satisfied: tensorstore in /usr/local/lib/python3.10/dist-packages (from flax>=0.7.2->tensorflowjs) (0.1.45)\n",
            "Requirement already satisfied: rich>=11.1 in /usr/local/lib/python3.10/dist-packages (from flax>=0.7.2->tensorflowjs) (13.7.0)\n",
            "Requirement already satisfied: typing-extensions>=4.2 in /usr/local/lib/python3.10/dist-packages (from flax>=0.7.2->tensorflowjs) (4.10.0)\n",
            "Requirement already satisfied: PyYAML>=5.4.1 in /usr/local/lib/python3.10/dist-packages (from flax>=0.7.2->tensorflowjs) (6.0.1)\n",
            "Requirement already satisfied: ml-dtypes>=0.2.0 in /usr/local/lib/python3.10/dist-packages (from jax>=0.4.13->tensorflowjs) (0.2.0)\n",
            "Requirement already satisfied: opt-einsum in /usr/local/lib/python3.10/dist-packages (from jax>=0.4.13->tensorflowjs) (3.3.0)\n",
            "Requirement already satisfied: scipy>=1.9 in /usr/local/lib/python3.10/dist-packages (from jax>=0.4.13->tensorflowjs) (1.11.4)\n",
            "Requirement already satisfied: absl-py>=1.0.0 in /usr/local/lib/python3.10/dist-packages (from tensorflow<3,>=2.13.0->tensorflowjs) (1.4.0)\n",
            "Requirement already satisfied: astunparse>=1.6.0 in /usr/local/lib/python3.10/dist-packages (from tensorflow<3,>=2.13.0->tensorflowjs) (1.6.3)\n",
            "Requirement already satisfied: flatbuffers>=23.5.26 in /usr/local/lib/python3.10/dist-packages (from tensorflow<3,>=2.13.0->tensorflowjs) (23.5.26)\n",
            "Requirement already satisfied: gast!=0.5.0,!=0.5.1,!=0.5.2,>=0.2.1 in /usr/local/lib/python3.10/dist-packages (from tensorflow<3,>=2.13.0->tensorflowjs) (0.5.4)\n",
            "Requirement already satisfied: google-pasta>=0.1.1 in /usr/local/lib/python3.10/dist-packages (from tensorflow<3,>=2.13.0->tensorflowjs) (0.2.0)\n",
            "Requirement already satisfied: h5py>=2.9.0 in /usr/local/lib/python3.10/dist-packages (from tensorflow<3,>=2.13.0->tensorflowjs) (3.9.0)\n",
            "Requirement already satisfied: libclang>=13.0.0 in /usr/local/lib/python3.10/dist-packages (from tensorflow<3,>=2.13.0->tensorflowjs) (16.0.6)\n",
            "Requirement already satisfied: protobuf!=4.21.0,!=4.21.1,!=4.21.2,!=4.21.3,!=4.21.4,!=4.21.5,<5.0.0dev,>=3.20.3 in /usr/local/lib/python3.10/dist-packages (from tensorflow<3,>=2.13.0->tensorflowjs) (3.20.3)\n",
            "Requirement already satisfied: setuptools in /usr/local/lib/python3.10/dist-packages (from tensorflow<3,>=2.13.0->tensorflowjs) (67.7.2)\n",
            "Requirement already satisfied: termcolor>=1.1.0 in /usr/local/lib/python3.10/dist-packages (from tensorflow<3,>=2.13.0->tensorflowjs) (2.4.0)\n",
            "Requirement already satisfied: wrapt<1.15,>=1.11.0 in /usr/local/lib/python3.10/dist-packages (from tensorflow<3,>=2.13.0->tensorflowjs) (1.14.1)\n",
            "Requirement already satisfied: tensorflow-io-gcs-filesystem>=0.23.1 in /usr/local/lib/python3.10/dist-packages (from tensorflow<3,>=2.13.0->tensorflowjs) (0.36.0)\n",
            "Requirement already satisfied: grpcio<2.0,>=1.24.3 in /usr/local/lib/python3.10/dist-packages (from tensorflow<3,>=2.13.0->tensorflowjs) (1.62.0)\n",
            "Requirement already satisfied: tensorboard<2.16,>=2.15 in /usr/local/lib/python3.10/dist-packages (from tensorflow<3,>=2.13.0->tensorflowjs) (2.15.2)\n",
            "Requirement already satisfied: tensorflow-estimator<2.16,>=2.15.0 in /usr/local/lib/python3.10/dist-packages (from tensorflow<3,>=2.13.0->tensorflowjs) (2.15.0)\n",
            "Requirement already satisfied: keras<2.16,>=2.15.0 in /usr/local/lib/python3.10/dist-packages (from tensorflow<3,>=2.13.0->tensorflowjs) (2.15.0)\n",
            "Requirement already satisfied: pandas in /usr/local/lib/python3.10/dist-packages (from tensorflow-decision-forests>=1.5.0->tensorflowjs) (1.5.3)\n",
            "Requirement already satisfied: wheel in /usr/local/lib/python3.10/dist-packages (from tensorflow-decision-forests>=1.5.0->tensorflowjs) (0.42.0)\n",
            "Collecting wurlitzer (from tensorflow-decision-forests>=1.5.0->tensorflowjs)\n",
            "  Downloading wurlitzer-3.0.3-py3-none-any.whl (7.3 kB)\n",
            "Requirement already satisfied: tf-keras>=2.14.1 in /usr/local/lib/python3.10/dist-packages (from tensorflow-hub>=0.14.0->tensorflowjs) (2.15.0)\n",
            "Requirement already satisfied: markdown-it-py>=2.2.0 in /usr/local/lib/python3.10/dist-packages (from rich>=11.1->flax>=0.7.2->tensorflowjs) (3.0.0)\n",
            "Requirement already satisfied: pygments<3.0.0,>=2.13.0 in /usr/local/lib/python3.10/dist-packages (from rich>=11.1->flax>=0.7.2->tensorflowjs) (2.16.1)\n",
            "Requirement already satisfied: google-auth<3,>=1.6.3 in /usr/local/lib/python3.10/dist-packages (from tensorboard<2.16,>=2.15->tensorflow<3,>=2.13.0->tensorflowjs) (2.27.0)\n",
            "Requirement already satisfied: google-auth-oauthlib<2,>=0.5 in /usr/local/lib/python3.10/dist-packages (from tensorboard<2.16,>=2.15->tensorflow<3,>=2.13.0->tensorflowjs) (1.2.0)\n",
            "Requirement already satisfied: markdown>=2.6.8 in /usr/local/lib/python3.10/dist-packages (from tensorboard<2.16,>=2.15->tensorflow<3,>=2.13.0->tensorflowjs) (3.5.2)\n",
            "Requirement already satisfied: requests<3,>=2.21.0 in /usr/local/lib/python3.10/dist-packages (from tensorboard<2.16,>=2.15->tensorflow<3,>=2.13.0->tensorflowjs) (2.31.0)\n",
            "Requirement already satisfied: tensorboard-data-server<0.8.0,>=0.7.0 in /usr/local/lib/python3.10/dist-packages (from tensorboard<2.16,>=2.15->tensorflow<3,>=2.13.0->tensorflowjs) (0.7.2)\n",
            "Requirement already satisfied: werkzeug>=1.0.1 in /usr/local/lib/python3.10/dist-packages (from tensorboard<2.16,>=2.15->tensorflow<3,>=2.13.0->tensorflowjs) (3.0.1)\n",
            "Requirement already satisfied: chex>=0.1.7 in /usr/local/lib/python3.10/dist-packages (from optax->flax>=0.7.2->tensorflowjs) (0.1.85)\n",
            "Requirement already satisfied: etils[epath,epy] in /usr/local/lib/python3.10/dist-packages (from orbax-checkpoint->flax>=0.7.2->tensorflowjs) (1.7.0)\n",
            "Requirement already satisfied: nest_asyncio in /usr/local/lib/python3.10/dist-packages (from orbax-checkpoint->flax>=0.7.2->tensorflowjs) (1.6.0)\n",
            "Requirement already satisfied: python-dateutil>=2.8.1 in /usr/local/lib/python3.10/dist-packages (from pandas->tensorflow-decision-forests>=1.5.0->tensorflowjs) (2.8.2)\n",
            "Requirement already satisfied: pytz>=2020.1 in /usr/local/lib/python3.10/dist-packages (from pandas->tensorflow-decision-forests>=1.5.0->tensorflowjs) (2023.4)\n",
            "Requirement already satisfied: toolz>=0.9.0 in /usr/local/lib/python3.10/dist-packages (from chex>=0.1.7->optax->flax>=0.7.2->tensorflowjs) (0.12.1)\n",
            "Requirement already satisfied: cachetools<6.0,>=2.0.0 in /usr/local/lib/python3.10/dist-packages (from google-auth<3,>=1.6.3->tensorboard<2.16,>=2.15->tensorflow<3,>=2.13.0->tensorflowjs) (5.3.3)\n",
            "Requirement already satisfied: pyasn1-modules>=0.2.1 in /usr/local/lib/python3.10/dist-packages (from google-auth<3,>=1.6.3->tensorboard<2.16,>=2.15->tensorflow<3,>=2.13.0->tensorflowjs) (0.3.0)\n",
            "Requirement already satisfied: rsa<5,>=3.1.4 in /usr/local/lib/python3.10/dist-packages (from google-auth<3,>=1.6.3->tensorboard<2.16,>=2.15->tensorflow<3,>=2.13.0->tensorflowjs) (4.9)\n",
            "Requirement already satisfied: requests-oauthlib>=0.7.0 in /usr/local/lib/python3.10/dist-packages (from google-auth-oauthlib<2,>=0.5->tensorboard<2.16,>=2.15->tensorflow<3,>=2.13.0->tensorflowjs) (1.3.1)\n",
            "Requirement already satisfied: mdurl~=0.1 in /usr/local/lib/python3.10/dist-packages (from markdown-it-py>=2.2.0->rich>=11.1->flax>=0.7.2->tensorflowjs) (0.1.2)\n",
            "Requirement already satisfied: charset-normalizer<4,>=2 in /usr/local/lib/python3.10/dist-packages (from requests<3,>=2.21.0->tensorboard<2.16,>=2.15->tensorflow<3,>=2.13.0->tensorflowjs) (3.3.2)\n",
            "Requirement already satisfied: idna<4,>=2.5 in /usr/local/lib/python3.10/dist-packages (from requests<3,>=2.21.0->tensorboard<2.16,>=2.15->tensorflow<3,>=2.13.0->tensorflowjs) (3.6)\n",
            "Requirement already satisfied: urllib3<3,>=1.21.1 in /usr/local/lib/python3.10/dist-packages (from requests<3,>=2.21.0->tensorboard<2.16,>=2.15->tensorflow<3,>=2.13.0->tensorflowjs) (2.0.7)\n",
            "Requirement already satisfied: certifi>=2017.4.17 in /usr/local/lib/python3.10/dist-packages (from requests<3,>=2.21.0->tensorboard<2.16,>=2.15->tensorflow<3,>=2.13.0->tensorflowjs) (2024.2.2)\n",
            "Requirement already satisfied: MarkupSafe>=2.1.1 in /usr/local/lib/python3.10/dist-packages (from werkzeug>=1.0.1->tensorboard<2.16,>=2.15->tensorflow<3,>=2.13.0->tensorflowjs) (2.1.5)\n",
            "Requirement already satisfied: fsspec in /usr/local/lib/python3.10/dist-packages (from etils[epath,epy]->orbax-checkpoint->flax>=0.7.2->tensorflowjs) (2023.6.0)\n",
            "Requirement already satisfied: zipp in /usr/local/lib/python3.10/dist-packages (from etils[epath,epy]->orbax-checkpoint->flax>=0.7.2->tensorflowjs) (3.17.0)\n",
            "Requirement already satisfied: pyasn1<0.6.0,>=0.4.6 in /usr/local/lib/python3.10/dist-packages (from pyasn1-modules>=0.2.1->google-auth<3,>=1.6.3->tensorboard<2.16,>=2.15->tensorflow<3,>=2.13.0->tensorflowjs) (0.5.1)\n",
            "Requirement already satisfied: oauthlib>=3.0.0 in /usr/local/lib/python3.10/dist-packages (from requests-oauthlib>=0.7.0->google-auth-oauthlib<2,>=0.5->tensorboard<2.16,>=2.15->tensorflow<3,>=2.13.0->tensorflowjs) (3.2.2)\n",
            "Installing collected packages: wurlitzer, tensorflow-decision-forests, tensorflowjs\n",
            "Successfully installed tensorflow-decision-forests-1.8.1 tensorflowjs-4.17.0 wurlitzer-3.0.3\n"
          ]
        }
      ]
    },
    {
      "cell_type": "code",
      "source": [
        "# downloading the model to deploy in a javascript environment(React)\n",
        "import tensorflowjs as tfjs\n",
        "tfjs.converters.save_keras_model(model, '/content/Model')"
      ],
      "metadata": {
        "colab": {
          "base_uri": "https://localhost:8080/"
        },
        "id": "fkOJkOOCw6_n",
        "outputId": "1c74134f-474f-46eb-eb5d-4bb8625147ed"
      },
      "execution_count": null,
      "outputs": [
        {
          "output_type": "stream",
          "name": "stderr",
          "text": [
            "/usr/local/lib/python3.10/dist-packages/keras/src/engine/training.py:3103: UserWarning: You are saving your model as an HDF5 file via `model.save()`. This file format is considered legacy. We recommend using instead the native Keras format, e.g. `model.save('my_model.keras')`.\n",
            "  saving_api.save_model(\n"
          ]
        }
      ]
    },
    {
      "cell_type": "code",
      "source": [
        "!zip -r /content/Model.zip /content/Model"
      ],
      "metadata": {
        "colab": {
          "base_uri": "https://localhost:8080/"
        },
        "id": "CuKYRDd4xCbT",
        "outputId": "0f17c566-ec6a-4eea-d5dc-0759fe55721e"
      },
      "execution_count": null,
      "outputs": [
        {
          "output_type": "stream",
          "name": "stdout",
          "text": [
            "  adding: content/Model/ (stored 0%)\n",
            "  adding: content/Model/group1-shard14of22.bin (deflated 7%)\n",
            "  adding: content/Model/group1-shard10of22.bin (deflated 7%)\n",
            "  adding: content/Model/group1-shard15of22.bin (deflated 7%)\n",
            "  adding: content/Model/group1-shard2of22.bin (deflated 7%)\n",
            "  adding: content/Model/group1-shard7of22.bin (deflated 7%)\n",
            "  adding: content/Model/group1-shard13of22.bin (deflated 7%)\n",
            "  adding: content/Model/group1-shard21of22.bin (deflated 7%)\n",
            "  adding: content/Model/group1-shard1of22.bin (deflated 7%)\n",
            "  adding: content/Model/group1-shard4of22.bin (deflated 7%)\n",
            "  adding: content/Model/group1-shard22of22.bin (deflated 7%)\n",
            "  adding: content/Model/model.json (deflated 96%)\n",
            "  adding: content/Model/group1-shard18of22.bin (deflated 7%)\n",
            "  adding: content/Model/group1-shard19of22.bin (deflated 7%)\n",
            "  adding: content/Model/group1-shard16of22.bin (deflated 7%)\n",
            "  adding: content/Model/group1-shard5of22.bin (deflated 7%)\n",
            "  adding: content/Model/group1-shard17of22.bin (deflated 7%)\n",
            "  adding: content/Model/group1-shard6of22.bin (deflated 7%)\n",
            "  adding: content/Model/group1-shard9of22.bin (deflated 7%)\n",
            "  adding: content/Model/group1-shard3of22.bin (deflated 7%)\n",
            "  adding: content/Model/group1-shard8of22.bin (deflated 7%)\n",
            "  adding: content/Model/group1-shard11of22.bin (deflated 7%)\n",
            "  adding: content/Model/group1-shard12of22.bin (deflated 7%)\n",
            "  adding: content/Model/group1-shard20of22.bin (deflated 7%)\n"
          ]
        }
      ]
    }
  ],
  "metadata": {
    "colab": {
      "provenance": []
    },
    "kernelspec": {
      "display_name": "Python 3",
      "name": "python3"
    },
    "language_info": {
      "name": "python"
    },
    "widgets": {
      "application/vnd.jupyter.widget-state+json": {
        "e817b58c1f5f4be6891f9261c7998761": {
          "model_module": "@jupyter-widgets/controls",
          "model_name": "HBoxModel",
          "model_module_version": "1.5.0",
          "state": {
            "_dom_classes": [],
            "_model_module": "@jupyter-widgets/controls",
            "_model_module_version": "1.5.0",
            "_model_name": "HBoxModel",
            "_view_count": null,
            "_view_module": "@jupyter-widgets/controls",
            "_view_module_version": "1.5.0",
            "_view_name": "HBoxView",
            "box_style": "",
            "children": [
              "IPY_MODEL_766a7034b17b4dd8a4e146391f546be2",
              "IPY_MODEL_df8c6630d58e4c27a55671e84fbda8fd",
              "IPY_MODEL_327ff5857509487cbe7b1b91a2d768ca"
            ],
            "layout": "IPY_MODEL_e31cd3ac52f74765867fff24c99bf60f"
          }
        },
        "766a7034b17b4dd8a4e146391f546be2": {
          "model_module": "@jupyter-widgets/controls",
          "model_name": "HTMLModel",
          "model_module_version": "1.5.0",
          "state": {
            "_dom_classes": [],
            "_model_module": "@jupyter-widgets/controls",
            "_model_module_version": "1.5.0",
            "_model_name": "HTMLModel",
            "_view_count": null,
            "_view_module": "@jupyter-widgets/controls",
            "_view_module_version": "1.5.0",
            "_view_name": "HTMLView",
            "description": "",
            "description_tooltip": null,
            "layout": "IPY_MODEL_4f0b2a17dd2d4e7caad59087b1e79722",
            "placeholder": "​",
            "style": "IPY_MODEL_d877e643306a4cfb8edd5be134c39c58",
            "value": "100%"
          }
        },
        "df8c6630d58e4c27a55671e84fbda8fd": {
          "model_module": "@jupyter-widgets/controls",
          "model_name": "FloatProgressModel",
          "model_module_version": "1.5.0",
          "state": {
            "_dom_classes": [],
            "_model_module": "@jupyter-widgets/controls",
            "_model_module_version": "1.5.0",
            "_model_name": "FloatProgressModel",
            "_view_count": null,
            "_view_module": "@jupyter-widgets/controls",
            "_view_module_version": "1.5.0",
            "_view_name": "ProgressView",
            "bar_style": "success",
            "description": "",
            "description_tooltip": null,
            "layout": "IPY_MODEL_e7f0b9d5b10049f3aef1e5d45718d8c1",
            "max": 10222,
            "min": 0,
            "orientation": "horizontal",
            "style": "IPY_MODEL_362a6ae968a74fddb7e1a54f4ed58779",
            "value": 10222
          }
        },
        "327ff5857509487cbe7b1b91a2d768ca": {
          "model_module": "@jupyter-widgets/controls",
          "model_name": "HTMLModel",
          "model_module_version": "1.5.0",
          "state": {
            "_dom_classes": [],
            "_model_module": "@jupyter-widgets/controls",
            "_model_module_version": "1.5.0",
            "_model_name": "HTMLModel",
            "_view_count": null,
            "_view_module": "@jupyter-widgets/controls",
            "_view_module_version": "1.5.0",
            "_view_name": "HTMLView",
            "description": "",
            "description_tooltip": null,
            "layout": "IPY_MODEL_958839d22ba540a696450bdf73025bb2",
            "placeholder": "​",
            "style": "IPY_MODEL_5353649b2c4847b988bcb006e2453bb6",
            "value": " 10222/10222 [00:20&lt;00:00, 576.29it/s]"
          }
        },
        "e31cd3ac52f74765867fff24c99bf60f": {
          "model_module": "@jupyter-widgets/base",
          "model_name": "LayoutModel",
          "model_module_version": "1.2.0",
          "state": {
            "_model_module": "@jupyter-widgets/base",
            "_model_module_version": "1.2.0",
            "_model_name": "LayoutModel",
            "_view_count": null,
            "_view_module": "@jupyter-widgets/base",
            "_view_module_version": "1.2.0",
            "_view_name": "LayoutView",
            "align_content": null,
            "align_items": null,
            "align_self": null,
            "border": null,
            "bottom": null,
            "display": null,
            "flex": null,
            "flex_flow": null,
            "grid_area": null,
            "grid_auto_columns": null,
            "grid_auto_flow": null,
            "grid_auto_rows": null,
            "grid_column": null,
            "grid_gap": null,
            "grid_row": null,
            "grid_template_areas": null,
            "grid_template_columns": null,
            "grid_template_rows": null,
            "height": null,
            "justify_content": null,
            "justify_items": null,
            "left": null,
            "margin": null,
            "max_height": null,
            "max_width": null,
            "min_height": null,
            "min_width": null,
            "object_fit": null,
            "object_position": null,
            "order": null,
            "overflow": null,
            "overflow_x": null,
            "overflow_y": null,
            "padding": null,
            "right": null,
            "top": null,
            "visibility": null,
            "width": null
          }
        },
        "4f0b2a17dd2d4e7caad59087b1e79722": {
          "model_module": "@jupyter-widgets/base",
          "model_name": "LayoutModel",
          "model_module_version": "1.2.0",
          "state": {
            "_model_module": "@jupyter-widgets/base",
            "_model_module_version": "1.2.0",
            "_model_name": "LayoutModel",
            "_view_count": null,
            "_view_module": "@jupyter-widgets/base",
            "_view_module_version": "1.2.0",
            "_view_name": "LayoutView",
            "align_content": null,
            "align_items": null,
            "align_self": null,
            "border": null,
            "bottom": null,
            "display": null,
            "flex": null,
            "flex_flow": null,
            "grid_area": null,
            "grid_auto_columns": null,
            "grid_auto_flow": null,
            "grid_auto_rows": null,
            "grid_column": null,
            "grid_gap": null,
            "grid_row": null,
            "grid_template_areas": null,
            "grid_template_columns": null,
            "grid_template_rows": null,
            "height": null,
            "justify_content": null,
            "justify_items": null,
            "left": null,
            "margin": null,
            "max_height": null,
            "max_width": null,
            "min_height": null,
            "min_width": null,
            "object_fit": null,
            "object_position": null,
            "order": null,
            "overflow": null,
            "overflow_x": null,
            "overflow_y": null,
            "padding": null,
            "right": null,
            "top": null,
            "visibility": null,
            "width": null
          }
        },
        "d877e643306a4cfb8edd5be134c39c58": {
          "model_module": "@jupyter-widgets/controls",
          "model_name": "DescriptionStyleModel",
          "model_module_version": "1.5.0",
          "state": {
            "_model_module": "@jupyter-widgets/controls",
            "_model_module_version": "1.5.0",
            "_model_name": "DescriptionStyleModel",
            "_view_count": null,
            "_view_module": "@jupyter-widgets/base",
            "_view_module_version": "1.2.0",
            "_view_name": "StyleView",
            "description_width": ""
          }
        },
        "e7f0b9d5b10049f3aef1e5d45718d8c1": {
          "model_module": "@jupyter-widgets/base",
          "model_name": "LayoutModel",
          "model_module_version": "1.2.0",
          "state": {
            "_model_module": "@jupyter-widgets/base",
            "_model_module_version": "1.2.0",
            "_model_name": "LayoutModel",
            "_view_count": null,
            "_view_module": "@jupyter-widgets/base",
            "_view_module_version": "1.2.0",
            "_view_name": "LayoutView",
            "align_content": null,
            "align_items": null,
            "align_self": null,
            "border": null,
            "bottom": null,
            "display": null,
            "flex": null,
            "flex_flow": null,
            "grid_area": null,
            "grid_auto_columns": null,
            "grid_auto_flow": null,
            "grid_auto_rows": null,
            "grid_column": null,
            "grid_gap": null,
            "grid_row": null,
            "grid_template_areas": null,
            "grid_template_columns": null,
            "grid_template_rows": null,
            "height": null,
            "justify_content": null,
            "justify_items": null,
            "left": null,
            "margin": null,
            "max_height": null,
            "max_width": null,
            "min_height": null,
            "min_width": null,
            "object_fit": null,
            "object_position": null,
            "order": null,
            "overflow": null,
            "overflow_x": null,
            "overflow_y": null,
            "padding": null,
            "right": null,
            "top": null,
            "visibility": null,
            "width": null
          }
        },
        "362a6ae968a74fddb7e1a54f4ed58779": {
          "model_module": "@jupyter-widgets/controls",
          "model_name": "ProgressStyleModel",
          "model_module_version": "1.5.0",
          "state": {
            "_model_module": "@jupyter-widgets/controls",
            "_model_module_version": "1.5.0",
            "_model_name": "ProgressStyleModel",
            "_view_count": null,
            "_view_module": "@jupyter-widgets/base",
            "_view_module_version": "1.2.0",
            "_view_name": "StyleView",
            "bar_color": null,
            "description_width": ""
          }
        },
        "958839d22ba540a696450bdf73025bb2": {
          "model_module": "@jupyter-widgets/base",
          "model_name": "LayoutModel",
          "model_module_version": "1.2.0",
          "state": {
            "_model_module": "@jupyter-widgets/base",
            "_model_module_version": "1.2.0",
            "_model_name": "LayoutModel",
            "_view_count": null,
            "_view_module": "@jupyter-widgets/base",
            "_view_module_version": "1.2.0",
            "_view_name": "LayoutView",
            "align_content": null,
            "align_items": null,
            "align_self": null,
            "border": null,
            "bottom": null,
            "display": null,
            "flex": null,
            "flex_flow": null,
            "grid_area": null,
            "grid_auto_columns": null,
            "grid_auto_flow": null,
            "grid_auto_rows": null,
            "grid_column": null,
            "grid_gap": null,
            "grid_row": null,
            "grid_template_areas": null,
            "grid_template_columns": null,
            "grid_template_rows": null,
            "height": null,
            "justify_content": null,
            "justify_items": null,
            "left": null,
            "margin": null,
            "max_height": null,
            "max_width": null,
            "min_height": null,
            "min_width": null,
            "object_fit": null,
            "object_position": null,
            "order": null,
            "overflow": null,
            "overflow_x": null,
            "overflow_y": null,
            "padding": null,
            "right": null,
            "top": null,
            "visibility": null,
            "width": null
          }
        },
        "5353649b2c4847b988bcb006e2453bb6": {
          "model_module": "@jupyter-widgets/controls",
          "model_name": "DescriptionStyleModel",
          "model_module_version": "1.5.0",
          "state": {
            "_model_module": "@jupyter-widgets/controls",
            "_model_module_version": "1.5.0",
            "_model_name": "DescriptionStyleModel",
            "_view_count": null,
            "_view_module": "@jupyter-widgets/base",
            "_view_module_version": "1.2.0",
            "_view_name": "StyleView",
            "description_width": ""
          }
        },
        "b5c61eba7972481da9552fe013117ec3": {
          "model_module": "@jupyter-widgets/controls",
          "model_name": "HBoxModel",
          "model_module_version": "1.5.0",
          "state": {
            "_dom_classes": [],
            "_model_module": "@jupyter-widgets/controls",
            "_model_module_version": "1.5.0",
            "_model_name": "HBoxModel",
            "_view_count": null,
            "_view_module": "@jupyter-widgets/controls",
            "_view_module_version": "1.5.0",
            "_view_name": "HBoxView",
            "box_style": "",
            "children": [
              "IPY_MODEL_efba04dba4dd4e949d7c379629c4c63c",
              "IPY_MODEL_51872b06a16e4a729698a7a35011def1",
              "IPY_MODEL_f9123100b4084c44a9571bb7184e7c42"
            ],
            "layout": "IPY_MODEL_1ba6735aaf8e452a9d8e85afae72df6f"
          }
        },
        "efba04dba4dd4e949d7c379629c4c63c": {
          "model_module": "@jupyter-widgets/controls",
          "model_name": "HTMLModel",
          "model_module_version": "1.5.0",
          "state": {
            "_dom_classes": [],
            "_model_module": "@jupyter-widgets/controls",
            "_model_module_version": "1.5.0",
            "_model_name": "HTMLModel",
            "_view_count": null,
            "_view_module": "@jupyter-widgets/controls",
            "_view_module_version": "1.5.0",
            "_view_name": "HTMLView",
            "description": "",
            "description_tooltip": null,
            "layout": "IPY_MODEL_83b1db5d8b6f46aab417c773927928f0",
            "placeholder": "​",
            "style": "IPY_MODEL_2d8c5ef889044ff4af66d044c4abee5d",
            "value": "100%"
          }
        },
        "51872b06a16e4a729698a7a35011def1": {
          "model_module": "@jupyter-widgets/controls",
          "model_name": "FloatProgressModel",
          "model_module_version": "1.5.0",
          "state": {
            "_dom_classes": [],
            "_model_module": "@jupyter-widgets/controls",
            "_model_module_version": "1.5.0",
            "_model_name": "FloatProgressModel",
            "_view_count": null,
            "_view_module": "@jupyter-widgets/controls",
            "_view_module_version": "1.5.0",
            "_view_name": "ProgressView",
            "bar_style": "success",
            "description": "",
            "description_tooltip": null,
            "layout": "IPY_MODEL_0db301fbe81b44ad88ff765e7a05cea1",
            "max": 9600,
            "min": 0,
            "orientation": "horizontal",
            "style": "IPY_MODEL_744b5c740300473e9144f4b429decd3c",
            "value": 9600
          }
        },
        "f9123100b4084c44a9571bb7184e7c42": {
          "model_module": "@jupyter-widgets/controls",
          "model_name": "HTMLModel",
          "model_module_version": "1.5.0",
          "state": {
            "_dom_classes": [],
            "_model_module": "@jupyter-widgets/controls",
            "_model_module_version": "1.5.0",
            "_model_name": "HTMLModel",
            "_view_count": null,
            "_view_module": "@jupyter-widgets/controls",
            "_view_module_version": "1.5.0",
            "_view_name": "HTMLView",
            "description": "",
            "description_tooltip": null,
            "layout": "IPY_MODEL_9dee325a440d48f6a5a9bfaa3f9392d3",
            "placeholder": "​",
            "style": "IPY_MODEL_f6a71e2369384ecfbdd024941ccfc159",
            "value": " 9600/9600 [00:20&lt;00:00, 513.52it/s]"
          }
        },
        "1ba6735aaf8e452a9d8e85afae72df6f": {
          "model_module": "@jupyter-widgets/base",
          "model_name": "LayoutModel",
          "model_module_version": "1.2.0",
          "state": {
            "_model_module": "@jupyter-widgets/base",
            "_model_module_version": "1.2.0",
            "_model_name": "LayoutModel",
            "_view_count": null,
            "_view_module": "@jupyter-widgets/base",
            "_view_module_version": "1.2.0",
            "_view_name": "LayoutView",
            "align_content": null,
            "align_items": null,
            "align_self": null,
            "border": null,
            "bottom": null,
            "display": null,
            "flex": null,
            "flex_flow": null,
            "grid_area": null,
            "grid_auto_columns": null,
            "grid_auto_flow": null,
            "grid_auto_rows": null,
            "grid_column": null,
            "grid_gap": null,
            "grid_row": null,
            "grid_template_areas": null,
            "grid_template_columns": null,
            "grid_template_rows": null,
            "height": null,
            "justify_content": null,
            "justify_items": null,
            "left": null,
            "margin": null,
            "max_height": null,
            "max_width": null,
            "min_height": null,
            "min_width": null,
            "object_fit": null,
            "object_position": null,
            "order": null,
            "overflow": null,
            "overflow_x": null,
            "overflow_y": null,
            "padding": null,
            "right": null,
            "top": null,
            "visibility": null,
            "width": null
          }
        },
        "83b1db5d8b6f46aab417c773927928f0": {
          "model_module": "@jupyter-widgets/base",
          "model_name": "LayoutModel",
          "model_module_version": "1.2.0",
          "state": {
            "_model_module": "@jupyter-widgets/base",
            "_model_module_version": "1.2.0",
            "_model_name": "LayoutModel",
            "_view_count": null,
            "_view_module": "@jupyter-widgets/base",
            "_view_module_version": "1.2.0",
            "_view_name": "LayoutView",
            "align_content": null,
            "align_items": null,
            "align_self": null,
            "border": null,
            "bottom": null,
            "display": null,
            "flex": null,
            "flex_flow": null,
            "grid_area": null,
            "grid_auto_columns": null,
            "grid_auto_flow": null,
            "grid_auto_rows": null,
            "grid_column": null,
            "grid_gap": null,
            "grid_row": null,
            "grid_template_areas": null,
            "grid_template_columns": null,
            "grid_template_rows": null,
            "height": null,
            "justify_content": null,
            "justify_items": null,
            "left": null,
            "margin": null,
            "max_height": null,
            "max_width": null,
            "min_height": null,
            "min_width": null,
            "object_fit": null,
            "object_position": null,
            "order": null,
            "overflow": null,
            "overflow_x": null,
            "overflow_y": null,
            "padding": null,
            "right": null,
            "top": null,
            "visibility": null,
            "width": null
          }
        },
        "2d8c5ef889044ff4af66d044c4abee5d": {
          "model_module": "@jupyter-widgets/controls",
          "model_name": "DescriptionStyleModel",
          "model_module_version": "1.5.0",
          "state": {
            "_model_module": "@jupyter-widgets/controls",
            "_model_module_version": "1.5.0",
            "_model_name": "DescriptionStyleModel",
            "_view_count": null,
            "_view_module": "@jupyter-widgets/base",
            "_view_module_version": "1.2.0",
            "_view_name": "StyleView",
            "description_width": ""
          }
        },
        "0db301fbe81b44ad88ff765e7a05cea1": {
          "model_module": "@jupyter-widgets/base",
          "model_name": "LayoutModel",
          "model_module_version": "1.2.0",
          "state": {
            "_model_module": "@jupyter-widgets/base",
            "_model_module_version": "1.2.0",
            "_model_name": "LayoutModel",
            "_view_count": null,
            "_view_module": "@jupyter-widgets/base",
            "_view_module_version": "1.2.0",
            "_view_name": "LayoutView",
            "align_content": null,
            "align_items": null,
            "align_self": null,
            "border": null,
            "bottom": null,
            "display": null,
            "flex": null,
            "flex_flow": null,
            "grid_area": null,
            "grid_auto_columns": null,
            "grid_auto_flow": null,
            "grid_auto_rows": null,
            "grid_column": null,
            "grid_gap": null,
            "grid_row": null,
            "grid_template_areas": null,
            "grid_template_columns": null,
            "grid_template_rows": null,
            "height": null,
            "justify_content": null,
            "justify_items": null,
            "left": null,
            "margin": null,
            "max_height": null,
            "max_width": null,
            "min_height": null,
            "min_width": null,
            "object_fit": null,
            "object_position": null,
            "order": null,
            "overflow": null,
            "overflow_x": null,
            "overflow_y": null,
            "padding": null,
            "right": null,
            "top": null,
            "visibility": null,
            "width": null
          }
        },
        "744b5c740300473e9144f4b429decd3c": {
          "model_module": "@jupyter-widgets/controls",
          "model_name": "ProgressStyleModel",
          "model_module_version": "1.5.0",
          "state": {
            "_model_module": "@jupyter-widgets/controls",
            "_model_module_version": "1.5.0",
            "_model_name": "ProgressStyleModel",
            "_view_count": null,
            "_view_module": "@jupyter-widgets/base",
            "_view_module_version": "1.2.0",
            "_view_name": "StyleView",
            "bar_color": null,
            "description_width": ""
          }
        },
        "9dee325a440d48f6a5a9bfaa3f9392d3": {
          "model_module": "@jupyter-widgets/base",
          "model_name": "LayoutModel",
          "model_module_version": "1.2.0",
          "state": {
            "_model_module": "@jupyter-widgets/base",
            "_model_module_version": "1.2.0",
            "_model_name": "LayoutModel",
            "_view_count": null,
            "_view_module": "@jupyter-widgets/base",
            "_view_module_version": "1.2.0",
            "_view_name": "LayoutView",
            "align_content": null,
            "align_items": null,
            "align_self": null,
            "border": null,
            "bottom": null,
            "display": null,
            "flex": null,
            "flex_flow": null,
            "grid_area": null,
            "grid_auto_columns": null,
            "grid_auto_flow": null,
            "grid_auto_rows": null,
            "grid_column": null,
            "grid_gap": null,
            "grid_row": null,
            "grid_template_areas": null,
            "grid_template_columns": null,
            "grid_template_rows": null,
            "height": null,
            "justify_content": null,
            "justify_items": null,
            "left": null,
            "margin": null,
            "max_height": null,
            "max_width": null,
            "min_height": null,
            "min_width": null,
            "object_fit": null,
            "object_position": null,
            "order": null,
            "overflow": null,
            "overflow_x": null,
            "overflow_y": null,
            "padding": null,
            "right": null,
            "top": null,
            "visibility": null,
            "width": null
          }
        },
        "f6a71e2369384ecfbdd024941ccfc159": {
          "model_module": "@jupyter-widgets/controls",
          "model_name": "DescriptionStyleModel",
          "model_module_version": "1.5.0",
          "state": {
            "_model_module": "@jupyter-widgets/controls",
            "_model_module_version": "1.5.0",
            "_model_name": "DescriptionStyleModel",
            "_view_count": null,
            "_view_module": "@jupyter-widgets/base",
            "_view_module_version": "1.2.0",
            "_view_name": "StyleView",
            "description_width": ""
          }
        }
      }
    }
  },
  "nbformat": 4,
  "nbformat_minor": 0
}